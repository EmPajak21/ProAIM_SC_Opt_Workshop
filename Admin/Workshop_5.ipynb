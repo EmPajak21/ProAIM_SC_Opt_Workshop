{
 "cells": [
  {
   "cell_type": "markdown",
   "metadata": {},
   "source": [
    "## Workshop 5: Optimisation Under Uncertainty"
   ]
  },
  {
   "cell_type": "markdown",
   "metadata": {},
   "source": [
    "### 1. Installing and Importing Packages \n",
    "\n",
    "We first need to pull in all the packages we will be using. Pyomo is a Python-based, open-source optimization modelling language with a diverse set of optimization capabilities. For more information, see the Pyomo [documentation](https://pyomo.readthedocs.io/en/stable/)."
   ]
  },
  {
   "cell_type": "code",
   "execution_count": 1,
   "metadata": {},
   "outputs": [],
   "source": [
    "import matplotlib.pyplot as plt\n",
    "from pyomo.environ import *\n",
    "import numpy as np\n",
    "from ipywidgets import FloatSlider, interact\n",
    "import platform\n",
    "from scipy.stats import weibull_min\n",
    "import os \n",
    "\n",
    "# Solver setup for Windows or Linux\n",
    "def setup_solver():\n",
    "    os_name = platform.system()\n",
    "    if os_name == \"Windows\":\n",
    "        return \"solver/ipopt.exe\", \"solver/cbc.exe\", \"solver/ampl.mswin64/bonmin.exe\"\n",
    "    elif os_name == \"Linux\":\n",
    "        os.system(\"chmod +x solver/ipopt\")\n",
    "        os.system(\"chmod +x solver/cbc\")\n",
    "        os.system(\"chmod +x solver/bonmin\")\n",
    "        return \"solver/ipopt\", \"solver/cbc\", \"solver/bonmin\"\n",
    "\n",
    "ipopt_executable, cbc_executable, bonmin_executable = setup_solver()"
   ]
  },
  {
   "cell_type": "markdown",
   "metadata": {},
   "source": [
    "### 2. Stochastic Optimisation"
   ]
  },
  {
   "cell_type": "markdown",
   "metadata": {},
   "source": [
    "#### a. Parameter Uncertainty - Sampling"
   ]
  },
  {
   "cell_type": "markdown",
   "metadata": {},
   "source": [
    "Parameter $a$ has associated uncertainty. \n",
    "\n",
    "We have taken 100 samples, $a_i=\\{a_1,\\dots,a_k\\}$ where $k=100$, from a Weibull distribution represented as:\n",
    "\n",
    "$$\n",
    "a \\sim \\text{Weibull}(\\alpha, \\beta) \n",
    "$$\n",
    "Defined by the parameters $\\alpha =3, \\beta =2$"
   ]
  },
  {
   "cell_type": "markdown",
   "metadata": {},
   "source": [
    "N.B. Weibull distribution is a popular choice for a variety of modelling scenarios, e.g., reliability engineering and modelling the Mean Time To Failure (MTTF) of parts."
   ]
  },
  {
   "cell_type": "code",
   "execution_count": null,
   "metadata": {},
   "outputs": [],
   "source": [
    "# Parameters for the Weibull distribution\n",
    "alpha, beta = 3, 2\n",
    "n_samples = 100\n",
    "\n",
    "# Generate 100 random samples from the Weibull distribution\n",
    "random_samples = weibull_min.rvs(beta, scale=alpha, size=n_samples)\n",
    "\n",
    "# Calculate the probability (PDF) for each sample\n",
    "random_sample_prob = weibull_min.pdf(random_samples, beta, scale=alpha)\n",
    "\n",
    "# Zip together in format: (sample value, probability of value)\n",
    "random_sample_list = list(zip(random_samples, random_sample_prob))\n",
    "\n",
    "# Define range for plotting the PDF\n",
    "x = np.linspace(0, 12, 100)  # Adjust the range as needed\n",
    "y = weibull_min.pdf(x, beta, scale=alpha)\n",
    "\n",
    "# Create the plot\n",
    "plt.figure(figsize=(10, 4))\n",
    "plt.plot(x, y, label=f'Weibull PDF (α = {alpha}, β = {beta})', color='blue', linewidth=2)\n",
    "plt.scatter([a for a, _ in random_sample_list], [p_a for _, p_a in random_sample_list], color='orange', label='Random Samples', marker='o', s=40)\n",
    "plt.title('Weibull Probability Density Function (PDF)')\n",
    "plt.xlabel('Value')\n",
    "plt.ylabel('Density')\n",
    "plt.legend()\n",
    "plt.show()"
   ]
  },
  {
   "cell_type": "markdown",
   "metadata": {},
   "source": [
    "#### b. Formulating Stochastic Optimisation Problem"
   ]
  },
  {
   "cell_type": "markdown",
   "metadata": {},
   "source": [
    "$$\n",
    "\\text{minimize } \\sum_{i=1}^{k} p(a_i) \\: a_i \\: x_1  + x_2\n",
    "$$\n",
    "\n",
    "$$\n",
    "\\text{s.t.} \\: a_i x_1 + x_2 \\geq - M(1-y_i) \\quad \\forall i =1,2,...,k\n",
    "$$\n",
    "\n",
    "$$\n",
    "\\sum_{i=1}^{k} y_i \\geq 90\n",
    "$$\n",
    "\n",
    "$$\n",
    "0 \\leq x_1 \\leq 10, \\quad x_2 \\in \\mathbb{R}\n",
    "$$\n",
    "\n",
    "$$\n",
    "y_i \\in \\{0, 1\\} \n",
    "$$\n",
    "\n",
    "where $p(a_i)$ is the probability density function (PDF) value for sample $ a_i $, and $M$ is some sufficiently large constant."
   ]
  },
  {
   "cell_type": "code",
   "execution_count": null,
   "metadata": {},
   "outputs": [],
   "source": [
    "# Create a Pyomo model\n",
    "model = ConcreteModel()\n",
    "\n",
    "# Variables\n",
    "model.x1 = Var(bounds=(1, 10), domain=PositiveReals)\n",
    "model.x2 = Var(domain=Reals)\n",
    "model.y = Var(range(n_samples), within=Binary)\n",
    "\n",
    "# Objective Function\n",
    "@model.Objective(sense=minimize)\n",
    "def objective_rule(model):\n",
    "    return sum((a * p_a * model.x1 + model.x2) for a, p_a in random_sample_list)\n",
    "\n",
    "M = 100\n",
    "# Loop to add multiple constraints based on uncertain values\n",
    "def constraint_rule(model, i):\n",
    "    a, _ = random_sample_list[i]  # Get 'a' from the sample_list\n",
    "    return a * model.x1 + model.x2 >= - M * (1-model.y[i])\n",
    "\n",
    "# Create constraints using a loop\n",
    "model.constraints = ConstraintList()\n",
    "for i in range(n_samples):\n",
    "    model.constraints.add(constraint_rule(model, i))\n",
    "\n",
    "# Sum of y constraint\n",
    "model.sum_y_constraint = Constraint(expr=sum(model.y[i] for i in range(n_samples)) >=99)\n",
    "\n",
    "# To solve the model\n",
    "solver = SolverFactory('bonmin', executable= bonmin_executable)\n",
    "results = solver.solve(model)\n",
    "constraints_violated = n_samples - sum(model.y[i].value for i in range(n_samples))\n",
    "\n",
    "print(f\"x1 optimal: {model.x1.value:.1f}\")\n",
    "print(f\"x2 optimal: {model.x2.value:.1f}\")\n",
    "print(f\"Objective Value: {model.objective_rule():.0f}\")\n",
    "print(f\"No. Constraint Violations: {constraints_violated:.0f}\")"
   ]
  },
  {
   "cell_type": "markdown",
   "metadata": {},
   "source": [
    "#### c. Importance Sampling - Capturing Samples at Tail"
   ]
  },
  {
   "cell_type": "markdown",
   "metadata": {},
   "source": [
    "The above graph shows random sampling does not effectively capturing the tail end of the distribution. This is problematic when we want our solution to be robust to such extreme events, which may occur infrequently but can have a significant impact. \n",
    "\n",
    "A potential solution is to increase the number of random samples such that we eventually capture the tail end of the distribution. However, this would require a large number of samples, making the problem excessively large, increasing run time. \n",
    "\n",
    "Instead of excessively increasing the sample size, we can use importance sampling to focus on tail-end samples without allowing them to disproportionately influence the optimization. This technique adjusts each sample's contribution based on its likelihood in the true distribution, enabling a more effective representation of rare events."
   ]
  },
  {
   "cell_type": "markdown",
   "metadata": {},
   "source": [
    "In importance sampling, we use the importance factor $w(a)$, to weight the samples impact on our model. This factor is calculated for each sample, and is the PDF value of a given sample normalised by the samples' average PDF.\n",
    "\n",
    "$$\n",
    "w(a) = \\frac{p(a)}{\\bar{p}} \\quad \\text{where} \\quad \\bar{p} = \\frac{1}{k}\\sum_{i=1}^{k} p(a_i)\n",
    "$$\n",
    "\n",
    "Where:\n",
    "- $p(a)$ is the PDF of the Weibull distribution.\n",
    "- $\\bar{p}$ is the average of the PDF calculated over $k$ samples.\n",
    "- $w(a)$ is the importance factor that adjusts the contribution of each sample."
   ]
  },
  {
   "cell_type": "code",
   "execution_count": null,
   "metadata": {},
   "outputs": [],
   "source": [
    "# Add 10 additional samples specifically targeting the tail\n",
    "tail_samples = weibull_min.rvs(beta, scale=alpha, size=10) + 6  # shift to target tail\n",
    "all_samples = np.concatenate((random_samples, tail_samples))\n",
    "\n",
    "# Calculate the probability (PDF) for each sample\n",
    "all_probabilities = weibull_min.pdf(all_samples, beta, scale=alpha)\n",
    "\n",
    "# Calculate the importance factor for each sample (normalised by average PDF)\n",
    "importance_factors = all_probabilities / np.mean(all_probabilities)\n",
    "\n",
    "# Zip samples, probabilities, and importance factors together\n",
    "sample_probability_importance_pairs = list(zip(all_samples, all_probabilities))\n",
    "\n",
    "# Plot the Weibull distribution\n",
    "x = np.linspace(0, 12, 500)\n",
    "pdf = weibull_min.pdf(x, beta, scale=alpha)\n",
    "plt.figure(figsize=(10, 4))\n",
    "plt.plot(x, pdf, label=f'Weibull PDF (α = {alpha}, β = {beta})', color='blue')\n",
    "\n",
    "# Plot the samples\n",
    "plt.scatter(random_samples, weibull_min.pdf(random_samples, beta, scale=alpha), color='red', label='Random Samples', alpha=0.6)\n",
    "plt.scatter(tail_samples, weibull_min.pdf(tail_samples, beta, scale=alpha), color='green', label='Tail Samples', alpha=0.6)\n",
    "plt.title('Weibull Probability Density Function (PDF)')\n",
    "plt.xlabel('x')\n",
    "plt.ylabel('Probability Density')\n",
    "plt.legend()\n",
    "plt.show()"
   ]
  },
  {
   "cell_type": "markdown",
   "metadata": {},
   "source": [
    "#### d. Optimisation Problem with Importance Samples"
   ]
  },
  {
   "cell_type": "markdown",
   "metadata": {},
   "source": [
    "$$\n",
    "\\text{minimize } \\sum_{i=1}^{k} p(a_i) \\: a_i \\: x_1  + x_2\n",
    "$$\n",
    "\n",
    "$$\n",
    "\\text{s.t.} \\: a_i x_1 + x_2 \\geq - M(1-y_i) \\quad \\forall i =1,2,...,k\n",
    "$$\n",
    "\n",
    "$$\n",
    "\\sum_{i=1}^{k} y_i \\geq 90\n",
    "$$\n",
    "\n",
    "$$\n",
    "0 \\leq x_1 \\leq 10, \\quad x_2 \\in \\mathbb{R}\n",
    "$$\n",
    "\n",
    "$$\n",
    "y_i \\in \\{0, 1\\} \n",
    "$$\n",
    "\n",
    "where $p(a_i)$ is the probability density function (PDF) value for sample $ a_i $."
   ]
  },
  {
   "cell_type": "code",
   "execution_count": null,
   "metadata": {},
   "outputs": [],
   "source": [
    "# Create a Pyomo model\n",
    "model = ConcreteModel()\n",
    "\n",
    "# Variables\n",
    "model.x1 = Var(bounds=(1, 10), domain=PositiveReals)\n",
    "model.x2 = Var(domain=Reals)\n",
    "model.y = Var(range(len(all_samples)), bounds=(0, 1), within=Binary)\n",
    "\n",
    "# Objective Function: Scale the contribution of each sample by its importance weight\n",
    "@model.Objective(sense=minimize)\n",
    "def objective_rule(model):\n",
    "    return sum(importance_factors[i] * (a * p_a * model.x1 + model.x2)\n",
    "                for i, (a, p_a) in enumerate(sample_probability_importance_pairs))\n",
    "\n",
    "M = 100\n",
    "# Loop to add multiple constraints based on uncertain values\n",
    "def constraint_rule(model, i):\n",
    "    a = all_samples[i]  # Get 'a' from the sample_list\n",
    "    return a * model.x1 + model.x2 >= - M * (1-model.y[i])\n",
    "\n",
    "# Create constraints using a loop\n",
    "model.constraints = ConstraintList()\n",
    "for i in range(len(all_samples)):\n",
    "    model.constraints.add(constraint_rule(model, i))\n",
    "\n",
    "# Sum of y constraint\n",
    "model.sum_y_constraint = Constraint(expr=sum(model.y[i] for i in range(len(all_samples))) >= 110)\n",
    "\n",
    "# To solve the model\n",
    "solver = SolverFactory('cbc', executable=cbc_executable)\n",
    "results = solver.solve(model)\n",
    "\n",
    "print(f\"x1 optimal: {model.x1.value:.1f}\")\n",
    "print(f\"x2 optimal: {model.x2.value:.1f}\")\n",
    "print(f\"Objective Value: {model.objective_rule():.0f}\")\n",
    "print(f\"No. Constraint Violations: {constraints_violated:.0f}\")"
   ]
  },
  {
   "cell_type": "markdown",
   "metadata": {},
   "source": [
    "### 3. Robust Optimisation"
   ]
  },
  {
   "cell_type": "markdown",
   "metadata": {},
   "source": [
    "$$\n",
    "\\text{minimize } a_i \\: x_1  + x_2\n",
    "$$\n",
    "\n",
    "$$\n",
    "\\text{s.t.} \\: a_i x_1 + x_2 \\geq 0\n",
    "$$\n",
    "\n",
    "$$\n",
    "0 \\leq x_1 \\leq 10, \\quad x_2 \\in \\mathbb{R}\n",
    "$$\n"
   ]
  },
  {
   "cell_type": "code",
   "execution_count": null,
   "metadata": {},
   "outputs": [],
   "source": [
    "import pyomo.contrib.pyros as pyros\n",
    "\n",
    "# Define the basic Pyomo model\n",
    "model = ConcreteModel()\n",
    "\n",
    "# Decision variables\n",
    "model.x1 = Var(bounds=(1, 10), domain=PositiveReals)\n",
    "model.x2 = Var(within=Reals)\n",
    "\n",
    "# Define uncertain parameter a as a regular Param (mutable=False is default)\n",
    "model.a = Param(initialize=1.0, mutable=True)\n",
    "\n",
    "# Define the objective\n",
    "model.obj = Objective(expr=model.a * model.x1 + model.x2, sense=minimize)\n",
    "\n",
    "# Single constraint with parameter a\n",
    "model.constr = Constraint(expr=model.a * model.x1 + model.x2 >= 0)\n",
    "\n",
    "# Define the PyROS solver\n",
    "pyros_solver = SolverFactory(\"pyros\")\n",
    "\n",
    "# Solve the robust optimization problem\n",
    "results = pyros_solver.solve(\n",
    "    model=model,\n",
    "    first_stage_variables=[model.x1, model.x2],\n",
    "    second_stage_variables=[],\n",
    "    uncertain_params=[model.a],\n",
    "    uncertainty_set=pyros.BoxSet(bounds=[(0, 13)]), \n",
    "    local_solver=\"ipopt\",\n",
    "    global_solver=\"ipopt\",\n",
    "    objective_focus=pyros.ObjectiveType.worst_case,\n",
    "    solve_master_globally=True,\n",
    "    load_solution=False,\n",
    ")\n",
    "\n",
    "print(f\"\\n========Final objective value: {results.final_objective_value:.2f}\")\n",
    "print(f\"\\n========{results.pyros_termination_condition}\")\n"
   ]
  }
 ],
 "metadata": {
  "kernelspec": {
   "display_name": "base",
   "language": "python",
   "name": "python3"
  },
  "language_info": {
   "codemirror_mode": {
    "name": "ipython",
    "version": 3
   },
   "file_extension": ".py",
   "mimetype": "text/x-python",
   "name": "python",
   "nbconvert_exporter": "python",
   "pygments_lexer": "ipython3",
   "version": "3.10.13"
  }
 },
 "nbformat": 4,
 "nbformat_minor": 2
}
