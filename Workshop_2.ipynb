{
 "cells": [
  {
   "cell_type": "markdown",
   "metadata": {},
   "source": [
    "## Workshop 2: The Pooling Problem"
   ]
  },
  {
   "cell_type": "markdown",
   "metadata": {},
   "source": [
    "### 1. Installing and Importing Packages \n",
    "\n",
    "We first need to pull in all the packages we will be using. Pyomo is a Python-based, open-source optimization modelling language with a diverse set of optimization capabilities. For more information, see the Pyomo [documentation](https://pyomo.readthedocs.io/en/stable/)."
   ]
  },
  {
   "cell_type": "code",
   "execution_count": 2,
   "metadata": {},
   "outputs": [],
   "source": [
    "# Only run once at the start\n",
    "!pip install -q pyomo\n",
    "!pip install -q matplotlib"
   ]
  },
  {
   "cell_type": "code",
   "execution_count": 3,
   "metadata": {},
   "outputs": [],
   "source": [
    "import matplotlib.pyplot as plt\n",
    "from pyomo.environ import *\n",
    "import numpy as np\n",
    "import pandas as pd\n",
    "from ipywidgets import FloatSlider, interact\n",
    "import platform\n",
    "\n",
    "# Solver setup for Windows or Linux\n",
    "def setup_solver():\n",
    "    os_name = platform.system()\n",
    "    if os_name == \"Windows\":\n",
    "        return \"solver/ipopt.exe\", \"solver/cbc.exe\", \"solver/ampl.mswin64/bonmin.exe\"\n",
    "    elif os_name == \"Linux\":\n",
    "        !chmod +x \"solver/ipopt\", \"solver/cbc\", \"solver/bonmin\"\n",
    "        return \"solver/ipopt\", \"solver/cbc\", \"solver/bonmin\"\n",
    "\n",
    "ipopt_executable, cbc_executable, bonmin_executable = setup_solver()"
   ]
  },
  {
   "cell_type": "markdown",
   "metadata": {},
   "source": [
    "### 2. Pooling Milk for Blending and Distribution"
   ]
  },
  {
   "cell_type": "markdown",
   "metadata": {},
   "source": [
    "![image.png](images\\milk-pooling_simple.png)\n"
   ]
  },
  {
   "cell_type": "markdown",
   "metadata": {},
   "source": [
    "The milk distributor blends supplies from the two local farms to meet customer requirements. Let $L$ designate the set of local suppliers, and let $C$ designate the set of customers. The decision variable $x_{l,c}$ is the amount of milk from local supplier $l\\in L$ mixed into the blend for customer $c\\in C$.\n",
    "\n",
    "The distributor’s objectives is to maximize profit:\n",
    "\n",
    "\\begin{align*}\n",
    "\\text{Profit} & = \\sum_{(l,c)\\ \\in\\ L \\times C} (\\text{price}_c - \\text{cost}_l) x_{l,c}\n",
    "\\end{align*}\n",
    " \n",
    "where the notation $(l,c) \\in L \\times C$ indicates a summation over the cross-product of two sets. A useful interpretation is that $(l,c) \\in L \\times C$ describes all ways of delivering milk from $l$ to $c$. Each term ($\\text{price}_{c} - \\text{price}_{l}$) is then the profit earned by delivering one unit of milk from $l \\in L$ to $c \\in C$.\n",
    "\n",
    "The amount of milk delivered to each customer can not exceed customer demand.\n",
    "\n",
    "\\begin{align*}\n",
    "\\sum_{l\\in L} x_{l, c} & \\leq \\text{demand}_{c} & \\forall c\\in C\n",
    "\\end{align*}\n",
    " \t\t\n",
    "The milk blend delivered to each customer  must meet the minimum product quality requirement for milk fat. Assuming linear blending, the model becomes:\n",
    "\n",
    "\\begin{align*}\n",
    "\\sum_{(l,c)\\ \\in\\ L \\times C} \\text{conc}_{l} x_{l,c} & \\geq \\text{conc}_{c} \\sum_{l\\in L} x_{l, c} & \\forall c \\in C\n",
    "\\end{align*}\t"
   ]
  },
  {
   "cell_type": "code",
   "execution_count": 11,
   "metadata": {},
   "outputs": [
    {
     "name": "stdout",
     "output_type": "stream",
     "text": [
      "\n",
      "Customers\n",
      "               fat  price  demand\n",
      "Customer A  0.0445   52.0  6000.0\n",
      "Customer B  0.0300   48.0  2500.0\n",
      "\n",
      "Local Suppliers\n",
      "          fat  cost location\n",
      "Farm A  0.045  45.0    local\n",
      "Farm B   0.03  42.0    local\n",
      "\n",
      "Remote Suppliers\n",
      "          fat  cost location\n",
      "Farm C  0.033  37.0   remote\n",
      "Farm D   0.05  45.0   remote\n"
     ]
    }
   ],
   "source": [
    "customers = pd.DataFrame({\n",
    "    \"Customer A\": {\"fat\": 0.0445, \"price\": 52.0, \"demand\": 6000.0},\n",
    "    \"Customer B\": {\"fat\": 0.030, \"price\": 48.0, \"demand\": 2500.0}\n",
    "}).T\n",
    "\n",
    "suppliers = pd.DataFrame({\n",
    "    \"Farm A\": {\"fat\": 0.045, \"cost\": 45.0, \"location\": \"local\"},\n",
    "    \"Farm B\": {\"fat\": 0.030, \"cost\": 42.0, \"location\": \"local\"},\n",
    "    \"Farm C\": {\"fat\": 0.033, \"cost\": 37.0, \"location\": \"remote\"},\n",
    "    \"Farm D\": {\"fat\": 0.050, \"cost\": 45.0, \"location\": \"remote\"}},\n",
    "    ).T\n",
    "\n",
    "local_suppliers = suppliers[suppliers[\"location\"]==\"local\"]\n",
    "remote_suppliers = suppliers[suppliers[\"location\"]==\"remote\"]\n",
    "\n",
    "print(\"\\nCustomers\")\n",
    "print(customers)\n",
    "\n",
    "print(\"\\nLocal Suppliers\")\n",
    "print(local_suppliers)\n",
    "\n",
    "print(\"\\nRemote Suppliers\")\n",
    "print(remote_suppliers)"
   ]
  },
  {
   "cell_type": "markdown",
   "metadata": {},
   "source": [
    "#### a. Option 1 (MILP): Current Setup - Two Local Milk Farms, Two Customers"
   ]
  },
  {
   "cell_type": "code",
   "execution_count": 22,
   "metadata": {},
   "outputs": [
    {
     "name": "stdout",
     "output_type": "stream",
     "text": [
      "\n",
      "Total Profit = £57600\n",
      "\n",
      "supplier    Farm A  Farm B     fat      Total\n",
      "customer                                     \n",
      "Customer A  5800.0   200.0  0.0445  6000.0445\n",
      "Customer B     0.0  2500.0  0.0300  2500.0300\n"
     ]
    }
   ],
   "source": [
    "# Define \"fat\" as the quality component for milk blending\n",
    "q = \"fat\"\n",
    "\n",
    "# Initialize the optimization model\n",
    "model = ConcreteModel()\n",
    "\n",
    "# Define the sets for suppliers and customers based on data indices\n",
    "model.L = Set(initialize=local_suppliers.index)  # Set of local suppliers\n",
    "model.C = Set(initialize=customers.index)  # Set of customers\n",
    "model.L2C = (\n",
    "    model.L * model.C\n",
    ")  # Cross-product set representing all (supplier, customer) pairs\n",
    "\n",
    "# Define the quality component set, which currently includes only \"fat\"\n",
    "model.Q = Set(initialize=[\"fat\"])\n",
    "\n",
    "# Define the decision variables for the amount of milk from each supplier to each customer\n",
    "model.x = Var(model.L * model.C, domain=NonNegativeReals)  # Flow rate variables\n",
    "\n",
    "\n",
    "# Objective Function: Maximize profit by choosing flow rates optimally\n",
    "@model.Objective(sense=maximize)\n",
    "def profit(model):\n",
    "    # Profit calculation: Sum over all (supplier, customer) pairs\n",
    "    return sum(\n",
    "        model.x[l, c] * (customers.loc[c, \"price\"] - suppliers.loc[l, \"cost\"])\n",
    "        for l, c in model.L2C\n",
    "    )\n",
    "\n",
    "\n",
    "# Demand Constraints: Ensure supply to each customer does not exceed their demand\n",
    "@model.Constraint(model.C)\n",
    "def demand(model, c):\n",
    "    # Sum of milk delivered to customer c from all suppliers should not exceed customer demand\n",
    "    return sum(model.x[l, c] for l in model.L) <= customers.loc[c, \"demand\"]\n",
    "\n",
    "\n",
    "# Quality Constraints: Ensure minimum fat content requirement in the milk blend for each customer\n",
    "@model.Constraint(model.C)\n",
    "def quality(model, c):\n",
    "    # Sum of the fat contribution from all suppliers should meet the customer's quality requirement\n",
    "    return (\n",
    "        sum(model.x[l, c] * suppliers.loc[l, q] for l in model.L)\n",
    "        >= sum(model.x[l, c] for l in model.L) * customers.loc[c, q]\n",
    "    )\n",
    "\n",
    "\n",
    "# Solve the optimization model using Bonmin (or other suitable solver)\n",
    "SolverFactory(\"cbc\", executable=cbc_executable).solve(model)\n",
    "\n",
    "# Display the total profit from the optimized solution\n",
    "print(f\"\\nTotal Profit = £{model.profit():.0f}\\n\")\n",
    "\n",
    "# Prepare a DataFrame to display the flow rate results in an organized table\n",
    "# Create a table of the flow rates from each supplier to each customer\n",
    "X = pd.DataFrame(\n",
    "    [[l, c, round(model.x[l, c](), 1)] for l, c in model.L2C],\n",
    "    columns=[\"supplier\", \"customer\", \"blend\"],\n",
    ")\n",
    "X = X.pivot_table(index=\"customer\", columns=\"supplier\", values=\"blend\")\n",
    "\n",
    "# Calculate and display the average fat content and total amount of milk delivered to each customer\n",
    "X[\"fat\"] = sum(X.loc[:, l] * suppliers.loc[l, \"fat\"] for l in model.L) / X.sum(axis=1)\n",
    "X[\"Total\"] = X.sum(axis=1)\n",
    "print(X)"
   ]
  },
  {
   "cell_type": "markdown",
   "metadata": {},
   "source": [
    "#### b. Option 2 (MINLP): Potential New Setup - Four Milk Farms, Two Customers"
   ]
  },
  {
   "cell_type": "markdown",
   "metadata": {},
   "source": [
    "![image.png](images\\milk-pooling.dio.png)"
   ]
  },
  {
   "cell_type": "markdown",
   "metadata": {},
   "source": [
    "The distributor wants to see if additional profit can be made by purchasing raw milk two remote farms. This would require purchasing and operating a separate delivery truck. Blending is also not possible in the remote locations.\n",
    "\n",
    "The question is whether the one existing truck could transport a pool of raw milk from remote farms C and D that could be blended with raw milk from local farms A and B to meet customer requirements. The profit potential may be reduced due to pooling, but it may still be a better option than adding additional operating expense.\n",
    "\n",
    "The pooling problem is famous, and there are a number of formulations used to model it. We will use a version of the \"p-parameterisation\" where composition of the pool is a decision variable. Here that variable will be called $f$.\n",
    "\n",
    "Other decision variables are also needed. Decision variables $y_c$ refer to the amount of the pool used in the blend delivered to customer $c\\in C$. Variables $z_r$ ar the amount of raw milk purchased from remote farm $r$ and included in the pool."
   ]
  },
  {
   "cell_type": "markdown",
   "metadata": {},
   "source": [
    "#### Updated Problem Formulation \n",
    "\n",
    "In the objective function, there are new terms for the cost of raw milk included in the pool, and customer revenue earned from use of the pool. \n",
    "$$\n",
    "\\begin{align*}\n",
    "\\text{Profit} & = \\sum_{(l,c)\\ \\in\\ L \\times C} (\\text{price}_c - \\text{cost}_l) x_{l,c}\n",
    "+ \\sum_{c\\in C} \\text{price}_c y_{c} - \\sum_{r\\in R} \\text{cost}_r z_{r}\n",
    "\\end{align*}\n",
    "$$\n",
    "\n",
    "The product delivered to each customer can not exceed customer demand.\n",
    "\n",
    "$$\n",
    "\\begin{align*}\n",
    "\\sum_{l\\in L} x_{l, c} + y_{c} & \\leq \\text{demand}_{c} & \\forall c\\in C\n",
    "\\end{align*}\n",
    "$$\n",
    "\n",
    "Incoming and outgoing flows to the pool must balance.\n",
    "\n",
    "$$\n",
    "\\begin{align*}\n",
    "\\sum_{r\\in R}z_{r} & = \\sum_{c\\in C} y_{c} \\\\\n",
    "\\end{align*}\n",
    "$$\n",
    "\n",
    "The milk fat composition of the pool, $f$, is given by averaging contributions from the remote farms.\n",
    "\n",
    "$$\n",
    "\\begin{align*}\n",
    "\\sum_{r\\in R}\\text{conc}_{r} z_{r}  & = \\underbrace{f \\sum_{c\\in C} y_{c}}_{\\text{bilinear}}\n",
    "\\end{align*}\n",
    "$$\n",
    "\n",
    "Finally, the minimum milk fat required by each customer $c\\in C$ satisfies a blending constraint.\n",
    "\n",
    "$$\n",
    "\\begin{align*}\n",
    "\\underbrace{f y_{c}}_{\\text{bilinear}}  + \\sum_{(l,c)\\ \\in\\ L \\times C} x_{l,c} \\text{conc}_{l} \n",
    "& \\geq \\text{conc}_{c} (\\sum_{l\\in L} x_{l, c} + y_{c})\n",
    "& \\forall c \\in C\n",
    "\\end{align*}\n",
    "$$\n",
    "\n",
    "The last two constraints include bilinear terms from the project of decision variable $f$ with decision variables $y_c$ for all $c\\in C$. \n"
   ]
  },
  {
   "cell_type": "code",
   "execution_count": 24,
   "metadata": {},
   "outputs": [
    {
     "name": "stdout",
     "output_type": "stream",
     "text": [
      "Optimal Profit: £71500\n"
     ]
    }
   ],
   "source": [
    "# Create the Pyomo model\n",
    "m = ConcreteModel()\n",
    "\n",
    "# Define sets for suppliers and customers\n",
    "m.L = Set(initialize=local_suppliers.index)   # Local suppliers\n",
    "m.R = Set(initialize=remote_suppliers.index)  # Remote suppliers\n",
    "m.C = Set(initialize=customers.index)         # Customers\n",
    "\n",
    "# Define decision variables\n",
    "m.x = Var(m.L * m.C, domain=NonNegativeReals)             # Flow rates from local suppliers to customers\n",
    "m.y = Var(m.C, domain=NonNegativeReals)                   # Flow rates from the pool to customers\n",
    "m.z = Var(m.R, domain=NonNegativeReals)                   # Flow rates from remote suppliers to the pool\n",
    "m.f = Var(bounds=(0.03, 0.051), domain=NonNegativeReals)  # Pool composition of fat content\n",
    "\n",
    "# Objective function: Maximize profit\n",
    "def profit_rule(m):\n",
    "    # Profit from local suppliers to customers\n",
    "    local_profit = sum(m.x[l, c] * (customers.loc[c, \"price\"] - suppliers.loc[l, \"cost\"]) for l, c in m.L * m.C)\n",
    "    \n",
    "    # Profit from pooled supply to customers\n",
    "    pool_profit = sum(m.y[c] * customers.loc[c, \"price\"] for c in m.C)\n",
    "    \n",
    "    # Cost of remote suppliers contributing to the pool\n",
    "    remote_cost = sum(m.z[r] * suppliers.loc[r, \"cost\"] for r in m.R)\n",
    "    return local_profit + pool_profit - remote_cost\n",
    "\n",
    "m.profit = Objective(rule=profit_rule, sense=maximize)\n",
    "\n",
    "# Customer demand constraint\n",
    "def customer_demand_rule(m, c):\n",
    "    # Total supply to each customer should not exceed their demand\n",
    "    return sum(m.x[l, c] for l in m.L) + m.y[c] <= customers.loc[c, \"demand\"]\n",
    "\n",
    "m.customer_demand = Constraint(m.C, rule=customer_demand_rule)\n",
    "\n",
    "# Pool balance constraint\n",
    "def pool_balance_rule(m):\n",
    "    # Ensure total inflow to the pool equals the total outflow to customers\n",
    "    return sum(m.z[r] for r in m.R) == sum(m.y[c] for c in m.C)\n",
    "\n",
    "m.pool_balance = Constraint(rule=pool_balance_rule)\n",
    "\n",
    "# Pool quality constraint (nonlinear)\n",
    "def pool_quality_rule(m):\n",
    "    # Balance fat content in the pool, considering fat concentration and total flow rate\n",
    "    return sum(suppliers.loc[r, \"fat\"] * m.z[r] for r in m.R) == m.f * sum(m.y[c] for c in m.C)\n",
    "\n",
    "m.pool_quality = Constraint(rule=pool_quality_rule)\n",
    "\n",
    "# Customer quality constraint (nonlinear)\n",
    "def customer_quality_rule(m, c):\n",
    "    # Ensure the fat content requirement for each customer is met by blending pool and local supplies\n",
    "    return m.f * m.y[c] + sum(suppliers.loc[l, \"fat\"] * m.x[l, c] for l in m.L) \\\n",
    "         >= customers.loc[c, \"fat\"] * (sum(m.x[l, c] for l in m.L) + m.y[c])\n",
    "\n",
    "m.customer_quality = Constraint(m.C, rule=customer_quality_rule)\n",
    "\n",
    "# Solve the model using the IPOPT solver (if nonlinear)\n",
    "solver = SolverFactory('bonmin', executable=bonmin_executable)\n",
    "results = solver.solve(m)\n",
    "\n",
    "# Access and print the optimized profit\n",
    "optimal_profit = value(m.profit)\n",
    "print(f\"Optimal Profit: £{optimal_profit:.0f}\")\n"
   ]
  }
 ],
 "metadata": {
  "kernelspec": {
   "display_name": "base",
   "language": "python",
   "name": "python3"
  },
  "language_info": {
   "codemirror_mode": {
    "name": "ipython",
    "version": 3
   },
   "file_extension": ".py",
   "mimetype": "text/x-python",
   "name": "python",
   "nbconvert_exporter": "python",
   "pygments_lexer": "ipython3",
   "version": "3.10.13"
  }
 },
 "nbformat": 4,
 "nbformat_minor": 2
}
