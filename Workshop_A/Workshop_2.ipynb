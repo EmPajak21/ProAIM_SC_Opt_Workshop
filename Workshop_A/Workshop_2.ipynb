{
 "cells": [
  {
   "cell_type": "markdown",
   "metadata": {},
   "source": [
    "## Workshop 2: The Pooling Problem"
   ]
  },
  {
   "cell_type": "markdown",
   "metadata": {},
   "source": [
    "Exercises Adapted from: https://jckantor.github.io/cbe30338-book/notebooks/milk-pooling.html?highlight=pooling"
   ]
  },
  {
   "cell_type": "markdown",
   "metadata": {},
   "source": [
    "### 1. Installing and Importing Packages \n",
    "\n",
    "We first need to pull in all the packages we will be using. Pyomo is a Python-based, open-source optimization modelling language with a diverse set of optimization capabilities. For more information, see the Pyomo [documentation](https://pyomo.readthedocs.io/en/stable/)."
   ]
  },
  {
   "cell_type": "code",
   "execution_count": null,
   "metadata": {},
   "outputs": [],
   "source": [
    "import matplotlib.pyplot as plt\n",
    "from pyomo.environ import *\n",
    "import numpy as np\n",
    "import pandas as pd\n",
    "from ipywidgets import FloatSlider, interact\n",
    "import platform\n",
    "import os \n",
    "\n",
    "# Solver setup for Windows or Linux\n",
    "def setup_solver():\n",
    "    os_name = platform.system()\n",
    "    if os_name == \"Windows\":\n",
    "        return \"solver/ipopt.exe\", \"solver/cbc.exe\", \"solver/ampl.mswin64/bonmin.exe\"\n",
    "    elif os_name == \"Linux\":\n",
    "        os.system(\"chmod +x solver/ipopt\")\n",
    "        os.system(\"chmod +x solver/cbc\")\n",
    "        os.system(\"chmod +x solver/bonmin\")\n",
    "        return \"solver/ipopt\", \"solver/cbc\", \"solver/bonmin\"\n",
    "\n",
    "ipopt_executable, cbc_executable, bonmin_executable = setup_solver()"
   ]
  },
  {
   "cell_type": "markdown",
   "metadata": {},
   "source": [
    "### 2. Blending Milk and Distribution"
   ]
  },
  {
   "cell_type": "markdown",
   "metadata": {},
   "source": [
    "![image.png](images\\milk-pooling_simple.png)\n"
   ]
  },
  {
   "cell_type": "markdown",
   "metadata": {},
   "source": [
    "The milk distributor blends supplies from the two local farms to meet customer requirements. Let $L$ designate the set of local suppliers, and let $C$ designate the set of customers. The decision variable $x_{l,c}$ is the amount of milk from local supplier $l\\in L$ mixed into the blend for customer $c\\in C$.\n",
    "\n",
    "The distributor’s objectives is to maximize profit:\n",
    "\n",
    "\\begin{align*}\n",
    "\\text{Profit} & = \\sum_{(l,c)\\ \\in\\ L \\times C} (\\text{price}_c - \\text{cost}_l) x_{l,c}\n",
    "\\end{align*}\n",
    " \n",
    "where the notation $(l,c) \\in L \\times C$ indicates a summation over the cross-product of two sets. A useful interpretation is that $(l,c) \\in L \\times C$ describes all ways of delivering milk from $l$ to $c$. Each term ($\\text{price}_{c} - \\text{price}_{l}$) is then the profit earned by delivering one unit of milk from $l \\in L$ to $c \\in C$.\n",
    "\n",
    "The amount of milk delivered to each customer can not exceed customer demand.\n",
    "\n",
    "\\begin{align*}\n",
    "\\sum_{l\\in L} x_{l, c} & \\leq \\text{demand}_{c} & \\forall c\\in C\n",
    "\\end{align*}\n",
    " \t\t\n",
    "The milk blend delivered to each customer  must meet the minimum product quality requirement for milk fat. Assuming linear blending, the model becomes:\n",
    "\n",
    "\\begin{align*}\n",
    "\\sum_{(l,c)\\ \\in\\ L \\times C} \\text{conc}_{l} x_{l,c} & \\geq \\text{conc}_{c} \\sum_{l\\in L} x_{l, c} & \\forall c \\in C\n",
    "\\end{align*}\t"
   ]
  },
  {
   "cell_type": "code",
   "execution_count": null,
   "metadata": {},
   "outputs": [],
   "source": [
    "customers = pd.DataFrame({\n",
    "    \"Customer A\": {\"fat\": 0.0445, \"price\": 52.0, \"demand\": 6000.0},\n",
    "    \"Customer B\": {\"fat\": 0.030, \"price\": 48.0, \"demand\": 2500.0}\n",
    "}).T\n",
    "\n",
    "suppliers = pd.DataFrame({\n",
    "    \"Farm A\": {\"fat\": 0.045, \"cost\": 45.0, \"location\": \"local\"},\n",
    "    \"Farm B\": {\"fat\": 0.030, \"cost\": 42.0, \"location\": \"local\"},\n",
    "    \"Farm C\": {\"fat\": 0.033, \"cost\": 37.0, \"location\": \"remote\"},\n",
    "    \"Farm D\": {\"fat\": 0.050, \"cost\": 45.0, \"location\": \"remote\"}},\n",
    "    ).T\n",
    "\n",
    "local_suppliers = suppliers[suppliers[\"location\"]==\"local\"]\n",
    "remote_suppliers = suppliers[suppliers[\"location\"]==\"remote\"]\n",
    "\n",
    "print(\"\\nCustomers\")\n",
    "print(customers)\n",
    "\n",
    "print(\"\\nLocal Suppliers\")\n",
    "print(local_suppliers)\n",
    "\n",
    "print(\"\\nRemote Suppliers\")\n",
    "print(remote_suppliers)"
   ]
  },
  {
   "cell_type": "markdown",
   "metadata": {},
   "source": [
    "#### a. Option 1 (LP): Current Setup - Two Local Milk Farms, Two Customers"
   ]
  },
  {
   "cell_type": "code",
   "execution_count": null,
   "metadata": {},
   "outputs": [],
   "source": [
    "def initialize_model(local_suppliers, customers):\n",
    "    model = ConcreteModel()\n",
    "    model.L = Set(initialize=local_suppliers.index.tolist())   # Local suppliers\n",
    "    model.C = Set(initialize=customers.index.tolist())         # Customers\n",
    "    model.x = Var(model.L * model.C, domain=NonNegativeReals)  # Flow rate variables\n",
    "    return model"
   ]
  },
  {
   "cell_type": "markdown",
   "metadata": {},
   "source": [
    "<div style=\"background-color: #f0f8ff; padding: 10px; border-radius: 5px; font-size: 1.2em;\">\n",
    "    <span style=\"color:blue;\"><b>EXERCISE:</b> Write a function named <code>add_objective_function()</code> that adds the objective function to the model to maximize profit, as shown in the above formulation.</span>\n",
    "</div>\n",
    "\n",
    "\n",
    "\\begin{align*}\n",
    "\\text{Profit} & = \\sum_{(l,c)\\ \\in\\ L \\times C} (\\text{price}_c - \\text{cost}_l) x_{l,c}\n",
    "\\end{align*}"
   ]
  },
  {
   "cell_type": "code",
   "execution_count": null,
   "metadata": {},
   "outputs": [],
   "source": [
    "def add_objective_function(model, suppliers, customers):\n",
    "    # Define the profit objective as a simple expression\n",
    "\n",
    "    profit_expr = pass # EXERCISE: Complete the expression for the profit\n",
    "\n",
    "    # Assign this expression directly as the objective\n",
    "    model.profit = Objective(expr=profit_expr, sense=maximize)\n",
    "    return model"
   ]
  },
  {
   "cell_type": "markdown",
   "metadata": {},
   "source": [
    "<div style=\"background-color: #f0f8ff; padding: 10px; border-radius: 5px; font-size: 1.2em;\">\n",
    "    <span style=\"color:blue;\"><b>EXERCISE:</b> Implement a function called <code>add_demand_constraints()</code> that ensures the total flow of milk delivered to each customer does not exceed their demand.</span>\n",
    "</div>\n",
    "\n",
    "\\begin{align*}\n",
    "\\sum_{l\\in L} x_{l, c} & \\leq \\text{demand}_{c} & \\forall c\\in C\n",
    "\\end{align*}"
   ]
  },
  {
   "cell_type": "code",
   "execution_count": null,
   "metadata": {},
   "outputs": [],
   "source": [
    "def add_demand_constraints(model, customers):\n",
    "    # HINT: Define the demand constraints directly in a loop\n",
    "    model.demand_constraints = ConstraintList()\n",
    "    \n",
    "    # EXERCISE: add a demand constraint for each customer\n",
    "    return model"
   ]
  },
  {
   "cell_type": "markdown",
   "metadata": {},
   "source": [
    "<div style=\"background-color: #f0f8ff; padding: 10px; border-radius: 5px; font-size: 1.2em;\">\n",
    "    <span style=\"color:blue;\"><b>EXERCISE:</b> Create a function named <code>add_quality_constraints()</code> that ensures the blended milk delivered to each customer meets their minimum fat content requirement.</span>\n",
    "</div>\n",
    "\n",
    "\\begin{align*}\n",
    "\\sum_{(l,c)\\ \\in\\ L \\times C} \\text{conc}_{l} x_{l,c} & \\geq \\text{conc}_{c} \\sum_{l\\in L} x_{l, c} & \\forall c \\in C\n",
    "\\end{align*}\t"
   ]
  },
  {
   "cell_type": "code",
   "execution_count": null,
   "metadata": {},
   "outputs": [],
   "source": [
    "def add_quality_constraints(model, suppliers, customers):\n",
    "    #EXERCISE: add quality constraint for each customer\n",
    "    return model"
   ]
  },
  {
   "cell_type": "markdown",
   "metadata": {},
   "source": [
    "<div style=\"background-color: #f0f8ff; padding: 10px; border-radius: 5px; font-size: 1.2em;\">\n",
    "    <span style=\"color:blue;\"><b>EXERCISE:</b> Use the pre-built <code>solve_model()</code> function to run the optimisation problem.</span>\n",
    "</div>"
   ]
  },
  {
   "cell_type": "code",
   "execution_count": null,
   "metadata": {},
   "outputs": [],
   "source": [
    "def solve_model(model):\n",
    "    solver = SolverFactory('cbc', executable=cbc_executable) \n",
    "    results = solver.solve(model)\n",
    "    \n",
    "    print(f\"\\nTotal Profit = £{model.profit():.0f}\\n\")  # Display the total profit\n",
    "    print(\"Optimal Flow Rates:\")                        # Display flowrates\n",
    "    for l in model.L:\n",
    "        for c in model.C:\n",
    "            flow_rate = model.x[l, c].value\n",
    "            print(f\"Flow from {l} to {c}: {flow_rate}\")"
   ]
  },
  {
   "cell_type": "code",
   "execution_count": null,
   "metadata": {},
   "outputs": [],
   "source": [
    "# Run the complete model\n",
    "model = initialize_model(local_suppliers, customers)\n",
    "model = add_objective_function(model, suppliers, customers)\n",
    "model = add_demand_constraints(model, customers)\n",
    "model = add_quality_constraints(model, suppliers, customers)\n",
    "solve_model(model)"
   ]
  },
  {
   "cell_type": "markdown",
   "metadata": {},
   "source": [
    "### 2. Pooling and Blending Milk and Distribution"
   ]
  },
  {
   "cell_type": "markdown",
   "metadata": {},
   "source": [
    "#### a. Option 2 (MINLP): Potential New Setup - Four Milk Farms, Two Customers"
   ]
  },
  {
   "cell_type": "markdown",
   "metadata": {},
   "source": [
    "![image.png](images\\milk-pooling.dio.png)"
   ]
  },
  {
   "cell_type": "markdown",
   "metadata": {},
   "source": [
    "The distributor wants to see if additional profit can be made by purchasing raw milk two remote farms. This would require purchasing and operating a separate delivery truck. Blending is also not possible in the remote locations.\n",
    "\n",
    "The question is whether the one existing truck could transport a pool of raw milk from remote farms C and D that could be blended with raw milk from local farms A and B to meet customer requirements. The profit potential may be reduced due to pooling, but it may still be a better option than adding additional operating expense.\n",
    "\n",
    "The pooling problem is famous, and there are a number of formulations used to model it. We will use a version of the \"p-parameterisation\" where composition of the pool is a decision variable. Here that variable will be called $f$.\n",
    "\n",
    "Other decision variables are also needed. Decision variables $y_c$ refer to the amount of the pool used in the blend delivered to customer $c\\in C$. Variables $z_r$ ar the amount of raw milk purchased from remote farm $r$ and included in the pool."
   ]
  },
  {
   "cell_type": "markdown",
   "metadata": {},
   "source": [
    "#### Updated Problem Formulation \n",
    "\n",
    "In the objective function, there are new terms for the cost of raw milk included in the pool, and customer revenue earned from use of the pool. \n",
    "$$\n",
    "\\begin{align*}\n",
    "\\text{Profit} & = \\sum_{(l,c)\\ \\in\\ L \\times C} (\\text{price}_c - \\text{cost}_l) x_{l,c}\n",
    "+ \\sum_{c\\in C} \\text{price}_c y_{c} - \\sum_{r\\in R} \\text{cost}_r z_{r}\n",
    "\\end{align*}\n",
    "$$\n",
    "\n",
    "The product delivered to each customer can not exceed customer demand.\n",
    "\n",
    "$$\n",
    "\\begin{align*}\n",
    "\\sum_{l\\in L} x_{l, c} + y_{c} & \\leq \\text{demand}_{c} & \\forall c\\in C\n",
    "\\end{align*}\n",
    "$$\n",
    "\n",
    "Incoming and outgoing flows to the pool must balance.\n",
    "\n",
    "$$\n",
    "\\begin{align*}\n",
    "\\sum_{r\\in R}z_{r} & = \\sum_{c\\in C} y_{c} \\\\\n",
    "\\end{align*}\n",
    "$$\n",
    "\n",
    "The milk fat composition of the pool, $f$, is given by averaging contributions from the remote farms.\n",
    "\n",
    "$$\n",
    "\\begin{align*}\n",
    "\\sum_{r\\in R}\\text{conc}_{r} z_{r}  & = \\underbrace{f \\sum_{c\\in C} y_{c}}_{\\text{bilinear}}\n",
    "\\end{align*}\n",
    "$$\n",
    "\n",
    "Finally, the minimum milk fat required by each customer $c\\in C$ satisfies a blending constraint.\n",
    "\n",
    "$$\n",
    "\\begin{align*}\n",
    "\\underbrace{f y_{c}}_{\\text{bilinear}}  + \\sum_{(l,c)\\ \\in\\ L \\times C} x_{l,c} \\text{conc}_{l} \n",
    "& \\geq \\text{conc}_{c} (\\sum_{l\\in L} x_{l, c} + y_{c})\n",
    "& \\forall c \\in C\n",
    "\\end{align*}\n",
    "$$\n",
    "\n",
    "The last two constraints include bilinear terms from the project of decision variable $f$ with decision variables $y_c$ for all $c\\in C$. \n"
   ]
  },
  {
   "cell_type": "code",
   "execution_count": null,
   "metadata": {},
   "outputs": [],
   "source": [
    "def initialize_model(local_suppliers, remote_suppliers, customers):\n",
    "    m = ConcreteModel()\n",
    "    \n",
    "    # Define sets for local and remote suppliers and customers\n",
    "    m.L = Set(initialize=local_suppliers.index)   # Local suppliers\n",
    "    m.R = Set(initialize=remote_suppliers.index)  # Remote suppliers\n",
    "    m.C = Set(initialize=customers.index)         # Customers\n",
    "    \n",
    "    # Define decision variables\n",
    "    m.x = Var(m.L * m.C, domain=NonNegativeReals)             # Flow rates from local suppliers to customers\n",
    "    m.y = Var(m.C, domain=NonNegativeReals)                   # Flow rates from the pool to customers\n",
    "    m.z = Var(m.R, domain=NonNegativeReals)                   # Flow rates from remote suppliers to the pool\n",
    "    m.f = Var(bounds=(0.03, 0.051), domain=NonNegativeReals)  # Pool composition of fat content\n",
    "    \n",
    "    return m"
   ]
  },
  {
   "cell_type": "markdown",
   "metadata": {},
   "source": [
    "<div style=\"background-color: #f0f8ff; padding: 10px; border-radius: 5px; font-size: 1.2em;\"> <span style=\"color:blue;\"><b>EXERCISE:</b> Define the objective function to maximize profit using <code>add_objective_function()</code>. Hint: perhaps think about separately calculating the local profit, pool profit and remote cost and then use these terms to calculate the total profit</span> </div>\n",
    "\n",
    "$$\n",
    "\\begin{align*}\n",
    "\\text{Profit} & = \\sum_{(l,c)\\ \\in\\ L \\times C} (\\text{price}_c - \\text{cost}_l) x_{l,c}\n",
    "+ \\sum_{c\\in C} \\text{price}_c y_{c} - \\sum_{r\\in R} \\text{cost}_r z_{r}\n",
    "\\end{align*}\n",
    "$$"
   ]
  },
  {
   "cell_type": "code",
   "execution_count": null,
   "metadata": {},
   "outputs": [],
   "source": [
    "def add_objective_function(m, suppliers, customers):\n",
    "    # EXERCISE: Calculate profits from local suppliers to customers\n",
    "\n",
    "    # EXERCISE: Calculate profit from pooled supply to customers\n",
    "\n",
    "    # EXERCISE: Calculate cost of remote suppliers contributing to the pool\n",
    "\n",
    "    # Define the objective function\n",
    "    m.profit = Objective(expr=local_profit + pool_profit - remote_cost, sense=maximize)\n",
    "    return m"
   ]
  },
  {
   "cell_type": "markdown",
   "metadata": {},
   "source": [
    "<div style=\"background-color: #f0f8ff; padding: 10px; border-radius: 5px; font-size: 1.2em;\"> <span style=\"color:blue;\"><b>EXERCISE:</b> Define the customer demand constraints using <code>add_demand_constraints()</code>.</span> </div>\n",
    "\n",
    "$$\n",
    "\\begin{align*}\n",
    "\\sum_{l\\in L} x_{l, c} + y_{c} & \\leq \\text{demand}_{c} & \\forall c\\in C\n",
    "\\end{align*}\n",
    "$$"
   ]
  },
  {
   "cell_type": "code",
   "execution_count": null,
   "metadata": {},
   "outputs": [],
   "source": [
    "def add_demand_constraints(m, customers):\n",
    "    # EXERCISE: add demand constraints for all customers\n",
    "    return m"
   ]
  },
  {
   "cell_type": "markdown",
   "metadata": {},
   "source": [
    "<div style=\"background-color: #f0f8ff; padding: 10px; border-radius: 5px; font-size: 1.2em;\"> <span style=\"color:blue;\"><b>EXERCISE:</b> Define the pool balance constraint using <code>add_pool_balance_constraint()</code>.</span> </div>\n",
    "\n",
    "$$\n",
    "\\begin{align*}\n",
    "\\sum_{r\\in R}z_{r} & = \\sum_{c\\in C} y_{c} \\\\\n",
    "\\end{align*}\n",
    "$$"
   ]
  },
  {
   "cell_type": "code",
   "execution_count": null,
   "metadata": {},
   "outputs": [],
   "source": [
    "def add_pool_balance_constraint(m):\n",
    "    # EXERCISE: add pool balance constraint\n",
    "    return m"
   ]
  },
  {
   "cell_type": "markdown",
   "metadata": {},
   "source": [
    "<div style=\"background-color: #f0f8ff; padding: 10px; border-radius: 5px; font-size: 1.2em;\"> <span style=\"color:blue;\"><b>EXERCISE:</b> Define the pool quality constraint using <code>add_pool_quality_constraint()</code>.</span> </div>\n",
    "\n",
    "$$\n",
    "\\begin{align*}\n",
    "\\sum_{r\\in R}\\text{conc}_{r} z_{r}  & = \\underbrace{f \\sum_{c\\in C} y_{c}}_{\\text{bilinear}}\n",
    "\\end{align*}\n",
    "$$"
   ]
  },
  {
   "cell_type": "code",
   "execution_count": null,
   "metadata": {},
   "outputs": [],
   "source": [
    "def add_pool_quality_constraint(m, suppliers):\n",
    "    # EXERCISE add the pool quality constraint\n",
    "    return m"
   ]
  },
  {
   "cell_type": "markdown",
   "metadata": {},
   "source": [
    "<div style=\"background-color: #f0f8ff; padding: 10px; border-radius: 5px; font-size: 1.2em;\"> <span style=\"color:blue;\"><b>EXERCISE:</b> Define the customer quality constraints using <code>add_customer_quality_constraints()</code>.</span> </div>\n",
    "\n",
    "$$\n",
    "\\begin{align*}\n",
    "\\underbrace{f y_{c}}_{\\text{bilinear}}  + \\sum_{(l,c)\\ \\in\\ L \\times C} x_{l,c} \\text{conc}_{l} \n",
    "& \\geq \\text{conc}_{c} (\\sum_{l\\in L} x_{l, c} + y_{c})\n",
    "& \\forall c \\in C\n",
    "\\end{align*}\n",
    "$$\n"
   ]
  },
  {
   "cell_type": "code",
   "execution_count": null,
   "metadata": {},
   "outputs": [],
   "source": [
    "def add_customer_quality_constraints(m, suppliers, customers):\n",
    "    # EXERCISE: add the customer quality constraint for all customers\n",
    "    return m"
   ]
  },
  {
   "cell_type": "markdown",
   "metadata": {},
   "source": [
    "<div style=\"background-color: #f0f8ff; padding: 10px; border-radius: 5px; font-size: 1.2em;\"> <span style=\"color:blue;\"><b>EXERCISE:</b> Solve the model and print the results using <code>solve_model()</code>.</span> </div>"
   ]
  },
  {
   "cell_type": "code",
   "execution_count": null,
   "metadata": {},
   "outputs": [],
   "source": [
    "def solve_model(m):\n",
    "    solver = SolverFactory('bonmin', executable=bonmin_executable)\n",
    "    results = solver.solve(m)\n",
    "    print(\"Optimal Profit: £{:.0f}\".format(value(m.profit)))"
   ]
  },
  {
   "cell_type": "markdown",
   "metadata": {},
   "source": [
    "<div style=\"background-color: #f0f8ff; padding: 10px; border-radius: 5px; font-size: 1.2em;\"> <span style=\"color:blue;\"><b>EXERCISE:</b> Run the cell below to solve the optimisation problem and print the result</code>.</span> </div>"
   ]
  },
  {
   "cell_type": "code",
   "execution_count": null,
   "metadata": {},
   "outputs": [],
   "source": [
    "# Initialize the model and add constraints step by step\n",
    "m = initialize_model(local_suppliers, remote_suppliers, customers)\n",
    "m = add_objective_function(m, suppliers, customers)\n",
    "m = add_demand_constraints(m, customers)\n",
    "m = add_pool_balance_constraint(m)\n",
    "m = add_pool_quality_constraint(m, suppliers)\n",
    "m = add_customer_quality_constraints(m, suppliers, customers)\n",
    "\n",
    "# Solve the model and display results\n",
    "solve_model(m)"
   ]
  }
 ],
 "metadata": {
  "kernelspec": {
   "display_name": "base",
   "language": "python",
   "name": "python3"
  },
  "language_info": {
   "codemirror_mode": {
    "name": "ipython",
    "version": 3
   },
   "file_extension": ".py",
   "mimetype": "text/x-python",
   "name": "python",
   "nbconvert_exporter": "python",
   "pygments_lexer": "ipython3",
   "version": "3.10.13"
  }
 },
 "nbformat": 4,
 "nbformat_minor": 2
}
