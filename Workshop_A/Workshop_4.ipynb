{
 "cells": [
  {
   "cell_type": "markdown",
   "metadata": {},
   "source": [
    "## Workshop 4: Supply Chain Case Study Practise"
   ]
  },
  {
   "cell_type": "markdown",
   "metadata": {},
   "source": [
    "This notebook illustrates Example 20 from Chapter 3 of the textbook Hands-On Mathematical Optimization with Python, Cambridge University Press, 2024."
   ]
  },
  {
   "cell_type": "markdown",
   "metadata": {},
   "source": [
    "### 1. Installing and Importing Packages \n",
    "\n",
    "We first need to pull in all the packages we will be using. Pyomo is a Python-based, open-source optimization modelling language with a diverse set of optimization capabilities. For more information, see the Pyomo [documentation](https://pyomo.readthedocs.io/en/stable/)."
   ]
  },
  {
   "cell_type": "code",
   "execution_count": null,
   "metadata": {},
   "outputs": [],
   "source": [
    "import matplotlib.pyplot as plt\n",
    "from pyomo.environ import *\n",
    "import numpy as np\n",
    "import platform\n",
    "import os \n",
    "\n",
    "# Solver setup for Windows or Linux\n",
    "def setup_solver():\n",
    "    os_name = platform.system()\n",
    "    if os_name == \"Windows\":\n",
    "        return \"solver/ipopt.exe\", \"solver/cbc.exe\", \"solver/ampl.mswin64/bonmin.exe\"\n",
    "    elif os_name == \"Linux\":\n",
    "        os.system(\"chmod +x solver/ipopt\")\n",
    "        os.system(\"chmod +x solver/cbc\")\n",
    "        os.system(\"chmod +x solver/bonmin\")\n",
    "        return \"solver/ipopt\", \"solver/cbc\", \"solver/bonmin\"\n",
    "\n",
    "ipopt_executable, cbc_executable, bonmin_executable = setup_solver()"
   ]
  },
  {
   "cell_type": "markdown",
   "metadata": {},
   "source": [
    "### 2. Problem description\n",
    "\n",
    "A supplier wishes to fulfill specific customer demands with minimal costs while simultaneously deciding how many facilities to build and where. In terms of data, we are given a set $I$ of customers, a set $J$ of possible locations, the cost $c_j$ of building facility $j$, and the cost $h_{ij}$ incurred to satisfy the demands of customer $i$ at facility $j$.\n"
   ]
  },
  {
   "cell_type": "markdown",
   "metadata": {},
   "source": [
    "#### a. MILP Formulation\n",
    "\n",
    "\n",
    "\\begin{align*}\n",
    "    \\min \\quad & \\sum_{j \\in J} c_j x_j + \\sum_{i \\in I} \\sum_{j \\in J} h_{ij} y_{ij} \\\\\n",
    "    \\text{s.t.} \\quad & \\sum_{j \\in J} y_{ij} = 1 \\qquad \\forall \\, i \\in I & \\text{(every customer is served)} \\\\\n",
    "    & y_{ij} \\leq x_{j} \\quad \\: \\qquad \\forall \\, i\\in I, \\, \\forall \\, j \\in J & \\text{(facility built before use)} \\\\\n",
    "    & x_j \\in \\{0,1\\} \\qquad \\forall \\, j \\in J \\\\\n",
    "    & y_{ij} \\in \\{0,1\\} \\qquad \\forall \\, i \\in I, \\, \\forall \\, j \\in J.\n",
    "\\end{align*}\n",
    "\n"
   ]
  },
  {
   "cell_type": "markdown",
   "metadata": {},
   "source": [
    "$$\n",
    "x_j := \n",
    "\\begin{cases}\n",
    "    1 & \\text{if facility $j$ is built,} \\\\\n",
    "    0 & \\text{otherwise,} \\\\\n",
    "\\end{cases}\n",
    "$$\n",
    "\n",
    "$$\n",
    "y_{ij} := \n",
    "\\begin{cases}\n",
    "    1 & \\text{if customer $i$ is served at facility $j$,} \\\\\n",
    "    0 & \\text{otherwise.} \\\\\n",
    "\\end{cases}\n",
    "$$\n",
    "\n",
    "$$\n",
    "h_{ij} \\propto d_{ij} \\quad \\text{where} \\: d_{ij} = \\text{Euclidean distance from customer} \\: i \\: \\text{to facility} \\: j.\n",
    "$$"
   ]
  },
  {
   "cell_type": "markdown",
   "metadata": {},
   "source": [
    "#### a. Function to Random Generate Facilities and Customer Locations"
   ]
  },
  {
   "cell_type": "code",
   "execution_count": null,
   "metadata": {},
   "outputs": [],
   "source": [
    "# Function to generate a random instance of the facility location problem\n",
    "def GenerateInstance(num_facilities, num_customers):\n",
    "    xC = np.random.randint(0, 100, num_customers)   # Customer x-coordinates\n",
    "    yC = np.random.randint(0, 100, num_customers)   # Customer y-coordinates\n",
    "    xF = np.random.randint(0, 100, num_facilities)  # Facility x-coordinates\n",
    "    yF = np.random.randint(0, 100, num_facilities)  # Facility y-coordinates\n",
    "    installation = [1500] * num_facilities          # Installation costs\n",
    "\n",
    "    # Calculate service distances\n",
    "    service = [\n",
    "        [(xC[i] - xF[j])**2 + (yC[i] - yF[j])**2 for j in range(num_facilities)]\n",
    "        for i in range(num_customers)\n",
    "    ]\n",
    "\n",
    "    return installation, service, xC, yC, xF, yF"
   ]
  },
  {
   "cell_type": "markdown",
   "metadata": {},
   "source": [
    "#### b. Facility-Customer Optimisation Problem"
   ]
  },
  {
   "cell_type": "code",
   "execution_count": null,
   "metadata": {},
   "outputs": [],
   "source": [
    "def CreateFacilityLocationModel(installation, service):\n",
    "    model = ConcreteModel(\"Facility Location\")\n",
    "    \n",
    "    # Sets for facilities and customers\n",
    "    model.facilities = Set(initialize=range(len(installation)))  # Facility indices\n",
    "    model.customers = Set(initialize=range(len(service)))        # Customer indices\n",
    "\n",
    "    # Decision variables: binary for facility and customer-service relationships\n",
    "    model.x = Var(model.facilities, within=Binary)                   # 1 if facility j is built\n",
    "    model.y = Var(model.customers, model.facilities, within=Binary)  # 1 if customer i is served by facility j\n",
    "\n",
    "    # Objective: minimize total costs of facilities and service\n",
    "    @model.Objective(sense=minimize)\n",
    "    def obj(model):\n",
    "        return (sum(installation[j] * model.x[j] for j in model.facilities) +                          # Facility costs\n",
    "                sum(service[i][j] * model.y[i, j] for i in model.customers for j in model.facilities)) # Serving costs\n",
    "\n",
    "    # Constraint: each customer must be served by exactly one facility\n",
    "    @model.Constraint(model.customers)\n",
    "    def ChooseOneFacility(model, i):\n",
    "        return sum(model.y[i, j] for j in model.facilities) == 1\n",
    "\n",
    "    # Constraint: if customer i is served by facility j, facility j must be open\n",
    "    @model.Constraint(model.customers, model.facilities)\n",
    "    def ServeIfOpen(model, i, j):\n",
    "        return model.y[i, j] <= model.x[j]\n",
    "\n",
    "    return model  # Return the complete model"
   ]
  },
  {
   "cell_type": "markdown",
   "metadata": {},
   "source": [
    "#### c. Visualise Customers and Facilities Before Solving"
   ]
  },
  {
   "cell_type": "code",
   "execution_count": null,
   "metadata": {},
   "outputs": [],
   "source": [
    "# Function to visualize the facility location solution\n",
    "def ShowSolution(xC, yC, xF, yF, X, Y, title=None):\n",
    "    plt.figure(figsize=(10, 6))\n",
    "    # Draw connections between facilities and customers\n",
    "    for j in range(len(X)):\n",
    "        if X[j]:  # If facility j is built\n",
    "            for i in range(len(Y)):\n",
    "                if Y[i][j]:  # If customer i is served by facility j\n",
    "                    plt.plot([xC[i], xF[j]], [yC[i], yF[j]], \"g-\")\n",
    "    \n",
    "    plt.scatter(xC, yC, marker='o', label='Customers')  # Plot customers\n",
    "    plt.scatter(xF, yF, marker='s', label='Facilities')  # Plot facilities\n",
    "    plt.title(title or \"Facility-Customer Servicing\")\n",
    "    plt.xlabel(\"X Coordinate\")\n",
    "    plt.ylabel(\"Y Coordinate\")\n",
    "    plt.legend()\n",
    "    plt.grid()\n",
    "    plt.show()"
   ]
  },
  {
   "cell_type": "markdown",
   "metadata": {},
   "source": [
    "#### d. Adjust Here for Different No. of Facilities and Customers"
   ]
  },
  {
   "cell_type": "code",
   "execution_count": null,
   "metadata": {},
   "outputs": [],
   "source": [
    "np.random.seed(2026)  # Set seed for reproducibility\n",
    "installation, service, xC, yC, xF, yF = GenerateInstance(5, 20)\n",
    "\n",
    "# Display Optimal Facility-Customer Servicing\n",
    "ShowSolution(xC, yC, xF, yF, [], [])"
   ]
  },
  {
   "cell_type": "markdown",
   "metadata": {},
   "source": [
    "#### e. Solving and Visualising Problem"
   ]
  },
  {
   "cell_type": "code",
   "execution_count": null,
   "metadata": {},
   "outputs": [],
   "source": [
    "# Create and solve the model\n",
    "model = CreateFacilityLocationModel(installation, service)\n",
    "solver = SolverFactory(\"cbc\", executable = cbc_executable)\n",
    "solver.solve(model)\n",
    "\n",
    "# Extract and display the solution\n",
    "X = [model.x[j]() > 0.5 for j in model.facilities]                                # Built facilities\n",
    "Y = [[model.y[i, j]() > 0.5 for j in model.facilities] for i in model.customers]  # Service matrix\n",
    "ShowSolution(xC, yC, xF, yF, X, Y, title=\"Optimal Facility-Customer Servicing\")"
   ]
  }
 ],
 "metadata": {
  "kernelspec": {
   "display_name": "base",
   "language": "python",
   "name": "python3"
  },
  "language_info": {
   "codemirror_mode": {
    "name": "ipython",
    "version": 3
   },
   "file_extension": ".py",
   "mimetype": "text/x-python",
   "name": "python",
   "nbconvert_exporter": "python",
   "pygments_lexer": "ipython3",
   "version": "3.10.13"
  }
 },
 "nbformat": 4,
 "nbformat_minor": 2
}
