{
 "cells": [
  {
   "cell_type": "markdown",
   "metadata": {},
   "source": [
    "## Introduction to Optimisation with Pyomo"
   ]
  },
  {
   "cell_type": "markdown",
   "metadata": {},
   "source": [
    "### Installing and Importing Packages \n",
    "\n",
    "We first need to pull in all the packages we will be using. Pyomo is a Python-based, open-source optimization modelling language with a diverse set of optimization capabilities. For more information, see the Pyomo [documentation](https://pyomo.readthedocs.io/en/stable/)."
   ]
  },
  {
   "cell_type": "code",
   "execution_count": 1,
   "metadata": {},
   "outputs": [
    {
     "name": "stdout",
     "output_type": "stream",
     "text": [
      "solver\\ipopt NT AUTHORITY\\SYSTEM:(F)\n",
      "             BUILTIN\\Administrators:(F)\n",
      "             IC\\eep19:(F)\n",
      "\n",
      "Successfully processed 1 files; Failed processing 0 files\n"
     ]
    }
   ],
   "source": [
    "# Only run once at the start\n",
    "!pip install -q pyomo\n"
   ]
  },
  {
   "cell_type": "code",
   "execution_count": 32,
   "metadata": {},
   "outputs": [],
   "source": [
    "from pathlib import Path\n",
    "import stat\n",
    "\n",
    "\n",
    "f = Path(\"solver/ipopt\")\n",
    "f.chmod(f.stat().st_mode | stat.S_IEXEC)"
   ]
  },
  {
   "cell_type": "code",
   "execution_count": 38,
   "metadata": {},
   "outputs": [],
   "source": [
    "import os\n",
    "import stat\n",
    "\n",
    "st = os.stat('solver/ipopt.exe')\n",
    "os.chmod('solver/ipopt.exe', st.st_mode | stat.S_IEXEC)"
   ]
  },
  {
   "cell_type": "code",
   "execution_count": 3,
   "metadata": {},
   "outputs": [],
   "source": [
    "import matplotlib.pyplot as plt\n",
    "from pyomo.environ import *\n",
    "import numpy as np\n",
    "from ipywidgets import FloatSlider, interact"
   ]
  },
  {
   "cell_type": "code",
   "execution_count": 49,
   "metadata": {},
   "outputs": [],
   "source": [
    "import os"
   ]
  },
  {
   "cell_type": "code",
   "execution_count": 52,
   "metadata": {},
   "outputs": [
    {
     "name": "stdout",
     "output_type": "stream",
     "text": [
      "x1: 0.0\n",
      "x2: 0.0\n",
      "2 Var Declarations\n",
      "    x1 : Size=1, Index=None\n",
      "        Key  : Lower : Value : Upper : Fixed : Stale : Domain\n",
      "        None :  None :   0.0 :  None : False : False :  Reals\n",
      "    x2 : Size=1, Index=None\n",
      "        Key  : Lower : Value : Upper : Fixed : Stale : Domain\n",
      "        None :  None :   0.0 :  None : False : False :  Reals\n",
      "\n",
      "1 Objective Declarations\n",
      "    obj : Size=1, Index=None, Active=True\n",
      "        Key  : Active : Sense    : Expression\n",
      "        None :   True : minimize : x1**2 + x2**2\n",
      "\n",
      "3 Declarations: x1 x2 obj\n"
     ]
    }
   ],
   "source": [
    "# Create a model\n",
    "model = ConcreteModel()\n",
    "\n",
    "# Define decision variables\n",
    "model.x1 = Var(domain=Reals)\n",
    "model.x2 = Var(domain=Reals)\n",
    "\n",
    "# Objective function\n",
    "model.obj = Objective(expr = model.x1**2 + model.x2**2, sense=minimize)\n",
    "\n",
    "# Create a solver\n",
    "solver = SolverFactory('ipopt', executable=\"solver/ipopt.exe\")\n",
    "\n",
    "# Solve the model\n",
    "solver.solve(model)\n",
    "\n",
    "# Display the results\n",
    "print(f\"x1: {model.x1()}\")\n",
    "print(f\"x2: {model.x2()}\")\n",
    "\n",
    "model.pprint()"
   ]
  },
  {
   "cell_type": "code",
   "execution_count": null,
   "metadata": {},
   "outputs": [],
   "source": [
    "# Create a grid of x1 and x2 values\n",
    "x1_vals = np.linspace(-5, 5, 400)\n",
    "x2_vals = np.linspace(-5, 5, 400)\n",
    "X1, X2 = np.meshgrid(x1_vals, x2_vals)\n",
    "\n",
    "# Define the objective function x1^2 + x2^2\n",
    "Z = X1**2 + X2**2\n",
    "\n",
    "# Create a contour plot\n",
    "plt.figure(figsize=(5, 4))\n",
    "contour = plt.contour(X1, X2, Z, levels=30, cmap='Blues', alpha=0.7)\n",
    "plt.colorbar(contour)\n",
    "\n",
    "# Highlight the minimum point\n",
    "plt.plot( model.x1(), model.x2(), 'bx', markersize=7, label=f'Solution at ({model.x1():.2f}, {model.x2():.2f})')\n",
    "\n",
    "# Set plot labels and title\n",
    "plt.xlabel('$x_1$', fontsize=12)\n",
    "plt.ylabel('$x_2$', fontsize=12)\n",
    "plt.title('Contour Plot of $x_1^2 + x_2^2$', fontsize=14)\n",
    "\n",
    "# Add a legend\n",
    "plt.legend()\n",
    "\n",
    "# Display the plot\n",
    "plt.grid(True)"
   ]
  },
  {
   "cell_type": "code",
   "execution_count": 4,
   "metadata": {},
   "outputs": [
    {
     "name": "stdout",
     "output_type": "stream",
     "text": [
      "WARNING: Failed to create solver with name 'ipopt': Failed to set executable\n",
      "for solver ipopt. File with name=ipopt either does not exist or it is not\n",
      "executable. To skip this validation, call set_executable with validate=False.\n",
      "Traceback (most recent call last):\n",
      "  File \"c:\\Users\\eep19\\AppData\\Local\\anaconda3\\Lib\\site-packages\\pyomo\\opt\\base\\solvers.py\", line 148, in __call__\n",
      "    opt = self._cls[_name](**kwds)\n",
      "          ^^^^^^^^^^^^^^^^^^^^^^^^\n",
      "  File \"c:\\Users\\eep19\\AppData\\Local\\anaconda3\\Lib\\site-packages\\pyomo\\solvers\\plugins\\solvers\\IPOPT.py\", line 40, in __init__\n",
      "    super(IPOPT, self).__init__(**kwds)\n",
      "  File \"c:\\Users\\eep19\\AppData\\Local\\anaconda3\\Lib\\site-packages\\pyomo\\opt\\solver\\shellcmd.py\", line 65, in __init__\n",
      "    self.set_executable(name=executable, validate=validate)\n",
      "  File \"c:\\Users\\eep19\\AppData\\Local\\anaconda3\\Lib\\site-packages\\pyomo\\opt\\solver\\shellcmd.py\", line 114, in set_executable\n",
      "    raise ValueError(\n",
      "ValueError: Failed to set executable for solver ipopt. File with name=ipopt either does not exist or it is not executable. To skip this validation, call set_executable with validate=False.\n"
     ]
    },
    {
     "ename": "RuntimeError",
     "evalue": "Attempting to use an unavailable solver.\n\nThe SolverFactory was unable to create the solver \"ipopt\"\nand returned an UnknownSolver object.  This error is raised at the point\nwhere the UnknownSolver object was used as if it were valid (by calling\nmethod \"solve\").\n\nThe original solver was created with the following parameters:\n\texecutable: ipopt\n\ttype: ipopt\n\t_args: ()\n\toptions: {}",
     "output_type": "error",
     "traceback": [
      "\u001b[1;31m---------------------------------------------------------------------------\u001b[0m",
      "\u001b[1;31mRuntimeError\u001b[0m                              Traceback (most recent call last)",
      "Cell \u001b[1;32mIn[4], line 18\u001b[0m\n\u001b[0;32m     15\u001b[0m solver \u001b[38;5;241m=\u001b[39m SolverFactory(\u001b[38;5;124m'\u001b[39m\u001b[38;5;124mipopt\u001b[39m\u001b[38;5;124m'\u001b[39m, executable\u001b[38;5;241m=\u001b[39m\u001b[38;5;124m'\u001b[39m\u001b[38;5;124mipopt\u001b[39m\u001b[38;5;124m'\u001b[39m)\n\u001b[0;32m     17\u001b[0m \u001b[38;5;66;03m# Solve the model\u001b[39;00m\n\u001b[1;32m---> 18\u001b[0m \u001b[43msolver\u001b[49m\u001b[38;5;241;43m.\u001b[39;49m\u001b[43msolve\u001b[49m\u001b[43m(\u001b[49m\u001b[43mmodel\u001b[49m\u001b[43m)\u001b[49m\n\u001b[0;32m     20\u001b[0m \u001b[38;5;66;03m# Display the results\u001b[39;00m\n\u001b[0;32m     21\u001b[0m \u001b[38;5;28mprint\u001b[39m(\u001b[38;5;124mf\u001b[39m\u001b[38;5;124m\"\u001b[39m\u001b[38;5;124mx1: \u001b[39m\u001b[38;5;132;01m{\u001b[39;00mmodel\u001b[38;5;241m.\u001b[39mx1()\u001b[38;5;132;01m}\u001b[39;00m\u001b[38;5;124m\"\u001b[39m)\n",
      "File \u001b[1;32mc:\\Users\\eep19\\AppData\\Local\\anaconda3\\Lib\\site-packages\\pyomo\\opt\\base\\solvers.py:99\u001b[0m, in \u001b[0;36mUnknownSolver.solve\u001b[1;34m(self, *args, **kwds)\u001b[0m\n\u001b[0;32m     97\u001b[0m \u001b[38;5;28;01mdef\u001b[39;00m \u001b[38;5;21msolve\u001b[39m(\u001b[38;5;28mself\u001b[39m, \u001b[38;5;241m*\u001b[39margs, \u001b[38;5;241m*\u001b[39m\u001b[38;5;241m*\u001b[39mkwds):\n\u001b[0;32m     98\u001b[0m \u001b[38;5;250m    \u001b[39m\u001b[38;5;124;03m\"\"\"Perform optimization and return an SolverResults object.\"\"\"\u001b[39;00m\n\u001b[1;32m---> 99\u001b[0m     \u001b[38;5;28;43mself\u001b[39;49m\u001b[38;5;241;43m.\u001b[39;49m\u001b[43m_solver_error\u001b[49m\u001b[43m(\u001b[49m\u001b[38;5;124;43m'\u001b[39;49m\u001b[38;5;124;43msolve\u001b[39;49m\u001b[38;5;124;43m'\u001b[39;49m\u001b[43m)\u001b[49m\n",
      "File \u001b[1;32mc:\\Users\\eep19\\AppData\\Local\\anaconda3\\Lib\\site-packages\\pyomo\\opt\\base\\solvers.py:116\u001b[0m, in \u001b[0;36mUnknownSolver._solver_error\u001b[1;34m(self, method_name)\u001b[0m\n\u001b[0;32m    115\u001b[0m     \u001b[38;5;28;01mdef\u001b[39;00m \u001b[38;5;21m_solver_error\u001b[39m(\u001b[38;5;28mself\u001b[39m, method_name):\n\u001b[1;32m--> 116\u001b[0m         \u001b[38;5;28;01mraise\u001b[39;00m \u001b[38;5;167;01mRuntimeError\u001b[39;00m(\n\u001b[0;32m    117\u001b[0m \u001b[38;5;250m            \u001b[39m\u001b[38;5;124;03m\"\"\"Attempting to use an unavailable solver.\u001b[39;00m\n\u001b[0;32m    118\u001b[0m \n\u001b[0;32m    119\u001b[0m \u001b[38;5;124;03mThe SolverFactory was unable to create the solver \"%s\"\u001b[39;00m\n\u001b[0;32m    120\u001b[0m \u001b[38;5;124;03mand returned an UnknownSolver object.  This error is raised at the point\u001b[39;00m\n\u001b[0;32m    121\u001b[0m \u001b[38;5;124;03mwhere the UnknownSolver object was used as if it were valid (by calling\u001b[39;00m\n\u001b[0;32m    122\u001b[0m \u001b[38;5;124;03mmethod \"%s\").\u001b[39;00m\n\u001b[0;32m    123\u001b[0m \n\u001b[0;32m    124\u001b[0m \u001b[38;5;124;03mThe original solver was created with the following parameters:\u001b[39;00m\n\u001b[0;32m    125\u001b[0m \u001b[38;5;124;03m\\t\"\"\"\u001b[39;00m\n\u001b[0;32m    126\u001b[0m             \u001b[38;5;241m%\u001b[39m (\u001b[38;5;28mself\u001b[39m\u001b[38;5;241m.\u001b[39mtype, method_name)\n\u001b[0;32m    127\u001b[0m             \u001b[38;5;241m+\u001b[39m \u001b[38;5;124m\"\u001b[39m\u001b[38;5;130;01m\\n\u001b[39;00m\u001b[38;5;130;01m\\t\u001b[39;00m\u001b[38;5;124m\"\u001b[39m\u001b[38;5;241m.\u001b[39mjoin(\u001b[38;5;124m\"\u001b[39m\u001b[38;5;132;01m%s\u001b[39;00m\u001b[38;5;124m: \u001b[39m\u001b[38;5;132;01m%s\u001b[39;00m\u001b[38;5;124m\"\u001b[39m \u001b[38;5;241m%\u001b[39m i \u001b[38;5;28;01mfor\u001b[39;00m i \u001b[38;5;129;01min\u001b[39;00m \u001b[38;5;28msorted\u001b[39m(\u001b[38;5;28mself\u001b[39m\u001b[38;5;241m.\u001b[39m_kwds\u001b[38;5;241m.\u001b[39mitems()))\n\u001b[0;32m    128\u001b[0m             \u001b[38;5;241m+\u001b[39m \u001b[38;5;124m\"\u001b[39m\u001b[38;5;130;01m\\n\u001b[39;00m\u001b[38;5;130;01m\\t\u001b[39;00m\u001b[38;5;124m_args: \u001b[39m\u001b[38;5;132;01m%s\u001b[39;00m\u001b[38;5;124m\"\u001b[39m \u001b[38;5;241m%\u001b[39m (\u001b[38;5;28mself\u001b[39m\u001b[38;5;241m.\u001b[39m_args,)\n\u001b[0;32m    129\u001b[0m             \u001b[38;5;241m+\u001b[39m \u001b[38;5;124m\"\u001b[39m\u001b[38;5;130;01m\\n\u001b[39;00m\u001b[38;5;130;01m\\t\u001b[39;00m\u001b[38;5;124moptions: \u001b[39m\u001b[38;5;132;01m%s\u001b[39;00m\u001b[38;5;124m\"\u001b[39m \u001b[38;5;241m%\u001b[39m (\u001b[38;5;28mself\u001b[39m\u001b[38;5;241m.\u001b[39moptions,)\n\u001b[0;32m    130\u001b[0m         )\n",
      "\u001b[1;31mRuntimeError\u001b[0m: Attempting to use an unavailable solver.\n\nThe SolverFactory was unable to create the solver \"ipopt\"\nand returned an UnknownSolver object.  This error is raised at the point\nwhere the UnknownSolver object was used as if it were valid (by calling\nmethod \"solve\").\n\nThe original solver was created with the following parameters:\n\texecutable: ipopt\n\ttype: ipopt\n\t_args: ()\n\toptions: {}"
     ]
    }
   ],
   "source": [
    "# Create a model\n",
    "model = ConcreteModel()\n",
    "\n",
    "# Define decision variables\n",
    "model.x1 = Var(domain=Reals)\n",
    "model.x2 = Var(domain=Reals)\n",
    "\n",
    "# Objective function\n",
    "model.obj = Objective(expr = model.x1**2 + model.x2**2, sense=minimize)\n",
    "\n",
    "# Add an Equality constraint\n",
    "model.constr = Constraint(expr=model.x1 + model.x2 >=1)\n",
    "\n",
    "# Create a solver\n",
    "solver = SolverFactory('ipopt', executable='ipopt')\n",
    "\n",
    "# Solve the model\n",
    "solver.solve(model)\n",
    "\n",
    "# Display the results\n",
    "print(f\"x1: {model.x1()}\")\n",
    "print(f\"x2: {model.x2()}\")\n",
    "\n",
    "model.pprint()"
   ]
  },
  {
   "cell_type": "code",
   "execution_count": null,
   "metadata": {},
   "outputs": [],
   "source": [
    "x1_vals = np.linspace(-5, 5, 400)\n",
    "x2_vals = np.linspace(-5, 5, 400)\n",
    "X1, X2 = np.meshgrid(x1_vals, x2_vals)\n",
    "\n",
    "# Define the objective function x1^2 + x2^2\n",
    "Z = X1**2 + X2**2\n",
    "\n",
    "# Create a contour plot\n",
    "plt.figure(figsize=(5, 4))\n",
    "contour = plt.contour(X1, X2, Z, levels=30, cmap='Blues', alpha=0.7)\n",
    "plt.colorbar(contour)\n",
    "\n",
    "# Plot Feasible Region\n",
    "plt.fill_betweenx(x1_vals, (1-x1_vals), 5, where=((1-x1_vals) <= 5), color='lightgreen', alpha=0.3, label='$x_1 + x_2 \\geq 1$')\n",
    "plt.plot(x1_vals, (1-x1_vals), color='black', linestyle='--', linewidth=1,)\n",
    "\n",
    "# Highlight Solution\n",
    "plt.plot( model.x1(), model.x2(), 'bx', markersize=7, label=f'Solution at ({model.x1():.2f}, {model.x2():.2f})')\n",
    "\n",
    "# Labels & Titles\n",
    "plt.xlabel('$x_1$', fontsize=12)\n",
    "plt.ylabel('$x_2$', fontsize=12)\n",
    "plt.title(f'Contour Plot with Feasible Region', fontsize=14)\n",
    "\n",
    "# Set plot limits\n",
    "plt.xlim(-5, 5)\n",
    "plt.ylim(-5, 5)\n",
    "\n",
    "plt.legend()\n",
    "plt.grid(True)\n",
    "plt.show()"
   ]
  },
  {
   "cell_type": "code",
   "execution_count": null,
   "metadata": {},
   "outputs": [],
   "source": [
    "# Create a model\n",
    "model = ConcreteModel()\n",
    "\n",
    "# Define decision variables\n",
    "model.x1 = Var(domain=Reals)\n",
    "model.x2 = Var(domain=Reals)\n",
    "\n",
    "# Objective function\n",
    "model.obj = Objective(expr = model.x1**2 + model.x2**2, sense=minimize)\n",
    "\n",
    "# Add an inequality constraint\n",
    "model.constr2 = Constraint(expr=model.x2 + model.x1 >= 1)\n",
    "\n",
    "# Add an equality constraint\n",
    "model.constr1 = Constraint(expr=model.x2 == 1)\n",
    "\n",
    "# Create a solver\n",
    "solver = SolverFactory('ipopt', executable='/content/drive/MyDrive/ColabNotebooks/ipopt')\n",
    "\n",
    "# Solve the model\n",
    "solver.solve(model)\n",
    "\n",
    "# Display the results\n",
    "print(f\"x1: {model.x1()}\")\n",
    "print(f\"x2: {model.x2()}\")\n",
    "\n",
    "model.pprint()"
   ]
  },
  {
   "cell_type": "code",
   "execution_count": null,
   "metadata": {},
   "outputs": [],
   "source": [
    "x1_vals = np.linspace(-5, 5, 400)\n",
    "x2_vals = np.linspace(-5, 5, 400)\n",
    "X1, X2 = np.meshgrid(x1_vals, x2_vals)\n",
    "\n",
    "# Define the objective function x1^2 + x2^2\n",
    "Z = X1**2 + X2**2\n",
    "\n",
    "# Create a contour plot\n",
    "plt.figure(figsize=(5, 4))\n",
    "contour = plt.contour(X1, X2, Z, levels=30, cmap='Blues', alpha=0.7)\n",
    "plt.colorbar(contour)\n",
    "\n",
    "# Define the boundaries\n",
    "x2_boundary1 = 1 - x1_vals  # x1 + x2 = 1 -> x2 = 1 - x1\n",
    "x2_boundary2 = 5 * np.ones_like(x1_vals)  # x2 = 2\n",
    "x2_equal_x1 = x1_vals  # x1 = x2\n",
    "\n",
    "# Fill the area between the lines for x1 + x2 >= 1 and x2 = 2\n",
    "plt.fill_between(x1_vals, np.maximum(x2_boundary1, 1), x2_boundary2,\n",
    "                  where=(x2_boundary1 <= x2_boundary2),\n",
    "                  color='lightgreen', alpha=0.3,\n",
    "                  label='$x_1 + x_2 \\\\geq 1$ and $x_2 = 2$')\n",
    "\n",
    "\n",
    "# Add a vertical line at the constraint x1 = -2\n",
    "plt.axhline(1, color='black', linewidth=1, label='$x_1 = 1$ (Constraint)')\n",
    "plt.plot(x1_vals, (1-x1_vals), color='black', linestyle='--', linewidth=1,)\n",
    "\n",
    "# Highlight Solution\n",
    "plt.plot(model.x1(), model.x2(), 'bx', markersize=7, label=f'Solution at ({model.x1():.2f}, {model.x2():.2f})')\n",
    "\n",
    "# Labels & Titles\n",
    "plt.xlabel('$x_1$', fontsize=12)\n",
    "plt.ylabel('$x_2$', fontsize=12)\n",
    "plt.title(f'Contour Plot with Feasible Region', fontsize=14)\n",
    "\n",
    "# Set plot limits\n",
    "plt.xlim(-5, 5)\n",
    "plt.ylim(-5, 5)\n",
    "\n",
    "plt.legend()\n",
    "plt.grid(True)\n",
    "plt.show()"
   ]
  },
  {
   "cell_type": "code",
   "execution_count": null,
   "metadata": {},
   "outputs": [],
   "source": [
    "def plot_filled_region(C1=1.0, C2=2.0):\n",
    "    # Create a grid of x1 values\n",
    "    x1_vals = np.linspace(-5, 5, 400)\n",
    "\n",
    "    # Define the boundaries based on the slider values\n",
    "    x2_boundary1 = C1 - x1_vals  # x1 + x2 = C1 -> x2 = C1 - x1\n",
    "    x2_boundary2 = C2 * np.ones_like(x1_vals)  # x2 = C2\n",
    "\n",
    "    # Create a new figure\n",
    "    plt.figure(figsize=(10, 8))\n",
    "\n",
    "    # Fill the area that satisfies both constraints\n",
    "    plt.fill_between(x1_vals,\n",
    "                     np.maximum(x2_boundary1, C2),  # Fill from the maximum of both boundaries\n",
    "                     5,  # Upper limit (arbitrary large value)\n",
    "                     where=(np.maximum(x2_boundary1, C2) <= 5),  # Ensure we fill within the limits\n",
    "                     color='orange', alpha=0.5,\n",
    "                     label=f'Feasible Region: $x_1 + x_2 \\\\geq {C1}$ and $x_2 \\\\geq {C2}$')\n",
    "\n",
    "    # Plot the lines for visualization\n",
    "    plt.plot(x1_vals, x2_boundary1, color='blue', linestyle='-', linewidth=2, label=f'$x_1 + x_2 = {C1}$')\n",
    "    plt.plot(x1_vals, x2_boundary2, color='red', linestyle='--', linewidth=2, label=f'$x_2 = {C2}$')\n",
    "\n",
    "    # Set plot limits\n",
    "    plt.xlim(-5, 5)\n",
    "    plt.ylim(-5, 5)\n",
    "\n",
    "    # Set plot labels and title\n",
    "    plt.xlabel('$x_1$', fontsize=12)\n",
    "    plt.ylabel('$x_2$', fontsize=12)\n",
    "    plt.title('Interactive Feasible Region Visualization', fontsize=14)\n",
    "\n",
    "    # Add a legend\n",
    "    plt.legend()\n",
    "\n",
    "    # Display the plot\n",
    "    plt.grid(True)\n",
    "    plt.axhline(0, color='black', linewidth=0.5, ls='--')  # X-axis\n",
    "    plt.axvline(0, color='black', linewidth=0.5, ls='--')  # Y-axis\n",
    "    plt.show()\n",
    "\n",
    "# Create interactive sliders for the constraints\n",
    "C1_slider = FloatSlider(value=1.0, min=0, max=5, step=0.1, description='$C1$ (for $x_1 + x_2 = C1$)')\n",
    "C2_slider = FloatSlider(value=2.0, min=0, max=5, step=0.1, description='$C2$ (for $x_2 = C2$)')\n",
    "\n",
    "# Use interact to link the sliders to the plotting function\n",
    "interact(plot_filled_region, C1=C1_slider, C2=C2_slider);\n"
   ]
  }
 ],
 "metadata": {
  "kernelspec": {
   "display_name": "base",
   "language": "python",
   "name": "python3"
  },
  "language_info": {
   "codemirror_mode": {
    "name": "ipython",
    "version": 3
   },
   "file_extension": ".py",
   "mimetype": "text/x-python",
   "name": "python",
   "nbconvert_exporter": "python",
   "pygments_lexer": "ipython3",
   "version": "3.11.9"
  }
 },
 "nbformat": 4,
 "nbformat_minor": 2
}
