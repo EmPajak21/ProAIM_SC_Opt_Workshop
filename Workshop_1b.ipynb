{
 "cells": [
  {
   "cell_type": "markdown",
   "metadata": {},
   "source": [
    "## Workshop 1b: Mixed Integer Linear Program Exercise"
   ]
  },
  {
   "cell_type": "markdown",
   "metadata": {},
   "source": [
    "### 1. Installing and Importing Packages \n",
    "\n",
    "We first need to pull in all the packages we will be using. Pyomo is a Python-based, open-source optimization modelling language with a diverse set of optimization capabilities. For more information, see the Pyomo [documentation](https://pyomo.readthedocs.io/en/stable/)."
   ]
  },
  {
   "cell_type": "code",
   "execution_count": 38,
   "metadata": {},
   "outputs": [],
   "source": [
    "# Only run once at the start\n",
    "!pip install -q pyomo\n",
    "!pip install -q matplotlib"
   ]
  },
  {
   "cell_type": "code",
   "execution_count": 39,
   "metadata": {},
   "outputs": [],
   "source": [
    "import matplotlib.pyplot as plt\n",
    "from pyomo.environ import *\n",
    "import numpy as np\n",
    "from ipywidgets import FloatSlider, interact, widgets\n",
    "import platform\n",
    "from IPython.display import display\n",
    "\n",
    "# Ipopt solver setup for Windows or Linux\n",
    "def setup_solver():\n",
    "    os_name = platform.system()\n",
    "    if os_name == \"Windows\":\n",
    "        return \"solver/ipopt.exe\"\n",
    "    elif os_name == \"Linux\":\n",
    "        !chmod +x \"solver/ipopt\"\n",
    "        return \"solver/ipopt\"\n",
    "\n",
    "\n",
    "solver_executable = setup_solver()"
   ]
  },
  {
   "cell_type": "markdown",
   "metadata": {},
   "source": [
    "### 2. Simple MILP Problem Formulation\n",
    "\n",
    "$$\n",
    "\\text{minimize} \\quad -x_1 - x_2\n",
    "$$\n",
    "\n",
    "$$\n",
    "\\text{s.t.} -x_1 + x_2 \\geq 0 \n",
    "$$\n",
    "\n",
    "$$\n",
    "\n",
    "$$\n",
    "\n",
    "$$\n",
    "x_1 \\leq 2 \n",
    "$$\n",
    "\n",
    "$$\n",
    "x_2 \\leq 3 \n",
    "$$\n",
    "\n",
    "$$\n",
    "x_1, x_2 \\in \\mathbb{Z}^+ \n",
    "$$\n",
    "\n"
   ]
  },
  {
   "cell_type": "markdown",
   "metadata": {},
   "source": [
    "#### a. ADD TASK FOR STUDENT"
   ]
  },
  {
   "cell_type": "code",
   "execution_count": 71,
   "metadata": {},
   "outputs": [
    {
     "name": "stdout",
     "output_type": "stream",
     "text": [
      "x1: 2.00\n",
      "x2: 3.00\n",
      "Obj: -5.00\n"
     ]
    }
   ],
   "source": [
    "# Create a model\n",
    "model = ConcreteModel()\n",
    "\n",
    "# Define decision variables as integers\n",
    "model.x1 = Var(domain=NonNegativeIntegers)\n",
    "model.x2 = Var(domain=NonNegativeIntegers)\n",
    "\n",
    "# Objective function\n",
    "model.obj = Objective(expr=-model.x1 - model.x2, sense=minimize)\n",
    "\n",
    "# Constraints\n",
    "model.constraint1 = Constraint(expr=model.x1 <= 2)\n",
    "model.constraint2 = Constraint(expr=model.x2 <= 3)\n",
    "model.constraint3 = Constraint(expr=-model.x1 + model.x2 >= 0)\n",
    "\n",
    "# Extract dual values (shadow prices)\n",
    "model.dual = Suffix(direction=Suffix.IMPORT)\n",
    "\n",
    "# Create a solver\n",
    "solver = SolverFactory(\"ipopt\", executable=solver_executable)  # You can change to \"cbc\", \"gurobi\", etc.\n",
    "\n",
    "# Solve the model\n",
    "solver.solve(model)\n",
    "\n",
    "# Display the results\n",
    "print(f\"x1: {model.x1():.2f}\")\n",
    "print(f\"x2: {model.x2():.2f}\")\n",
    "print(f\"Obj: {model.obj():.2f}\")"
   ]
  },
  {
   "cell_type": "markdown",
   "metadata": {},
   "source": [
    "#### b. Interactive Feasibility Region"
   ]
  },
  {
   "cell_type": "code",
   "execution_count": 41,
   "metadata": {},
   "outputs": [
    {
     "data": {
      "application/vnd.jupyter.widget-view+json": {
       "model_id": "9beb8265cb1645e58fe4fc8e0b73ec11",
       "version_major": 2,
       "version_minor": 0
      },
      "text/plain": [
       "interactive(children=(IntSlider(value=3, description='x2 limit:', max=5), IntSlider(value=2, description='x1 l…"
      ]
     },
     "metadata": {},
     "output_type": "display_data"
    }
   ],
   "source": [
    "# Function to update the plot\n",
    "def plot_feasible_region(x2_limit, x1_limit):\n",
    "    # Define the limits for the plot\n",
    "    x1 = np.linspace(0, 4, 400)\n",
    "    x2_1 = x1  # Line for x2 = x1\n",
    "    x2_2 = np.full_like(x1, x2_limit)  # Upper limit for x2\n",
    "\n",
    "    # Set up the plot\n",
    "    plt.figure(figsize=(8, 4))\n",
    "\n",
    "    # Plot the constraints\n",
    "    plt.plot(x1, x2_1, label=r'$x_2 = x_1$', color='green')\n",
    "    plt.plot(x1, x2_2, label=f'$x_2 = {x2_limit}$', color='blue')\n",
    "    plt.axvline(x=x1_limit, color='orange', label=f'$x_1 = {x1_limit}$')\n",
    "\n",
    "    # Fill the feasible region based on updated constraints\n",
    "    plt.fill_between(x1, np.maximum(x2_1, 0), x2_2,\n",
    "                     where=(x1 <= x1_limit) & (x2_2 >= np.maximum(x2_1, 0)), \n",
    "                     color='yellow', alpha=0.5, label='Feasible Region')\n",
    "\n",
    "    # Add integer points in the feasible region\n",
    "    for x1_val in range(x1_limit + 1):  # x1 can take values from 0 to x1_limit\n",
    "        for x2_val in range(x1_val, min(x2_limit + 1, 4)):  # x2 starts from x1 and goes up to x2_limit\n",
    "            if x2_val <= 3:\n",
    "                plt.plot(x1_val, x2_val, 'ko', markersize=7)  # Blue points for integer solutions\n",
    "\n",
    "    # Set labels and title\n",
    "    plt.xlabel(r'$x_1$', fontsize=14)\n",
    "    plt.ylabel(r'$x_2$', fontsize=14)\n",
    "    plt.title('Feasible Region and Integer Points', fontsize=16)\n",
    "    plt.xlim(0, 4)\n",
    "    plt.ylim(0, 4)\n",
    "    plt.xticks(np.arange(0, 5, 1))\n",
    "    plt.yticks(np.arange(0, 5, 1))\n",
    "    plt.grid(True)\n",
    "    plt.axhline(0, color='black', lw=0.5)\n",
    "    plt.axvline(0, color='black', lw=0.5)\n",
    "    plt.legend()\n",
    "    plt.show()\n",
    "\n",
    "# Create sliders for x2_limit and x1_limit\n",
    "x2_limit_slider = widgets.IntSlider(value=3, min=0, max=5, step=1, description='x2 limit:')\n",
    "x1_limit_slider = widgets.IntSlider(value=2, min=0, max=5, step=1, description='x1 limit:')\n",
    "\n",
    "# Use interactive output to update the plot based on slider values\n",
    "widgets.interactive(plot_feasible_region, x2_limit=x2_limit_slider, x1_limit=x1_limit_slider)\n"
   ]
  },
  {
   "cell_type": "markdown",
   "metadata": {},
   "source": [
    "#### c. Marginal Price Exploration\n",
    "\n",
    "Using the interactive plot below, determine the range of validity for constraint 1 and 2."
   ]
  },
  {
   "cell_type": "code",
   "execution_count": 72,
   "metadata": {},
   "outputs": [
    {
     "name": "stdout",
     "output_type": "stream",
     "text": [
      "================ Dual Values ================\n",
      "Constraint x1 <= 2 (dual_1): -1.00\n",
      "Constraint x2 <= 3 (dual_2): -1.00\n"
     ]
    }
   ],
   "source": [
    "# Define the marginal prices for each constraint\n",
    "dual_1 = model.dual[model.constraint1]  \n",
    "dual_2 = model.dual[model.constraint2]\n",
    "#dual_3 = model.dual[model.constraint3] \n",
    "\n",
    "print(\"================ Dual Values ================\")\n",
    "print(\"Constraint x1 <= 2 (dual_1):\", f\"{-1*dual_1:.2f}\")\n",
    "print(\"Constraint x2 <= 3 (dual_2):\", f\"{-1*dual_2:.2f}\")\n",
    "#print(\"Constraint x2 >= x1 (dual_3):\", f\"{-1*dual_3:.2f}\")"
   ]
  },
  {
   "cell_type": "markdown",
   "metadata": {},
   "source": [
    "#### d. Using Marginal Price to Calculate Recalculate Objective"
   ]
  },
  {
   "cell_type": "code",
   "execution_count": 73,
   "metadata": {},
   "outputs": [
    {
     "name": "stdout",
     "output_type": "stream",
     "text": [
      "\n",
      "Current Objective Value: -5.00\n",
      "\n",
      "Change in objective function with +10 on constraint 2: -10.00\n",
      "\n",
      "New Objective Value: -15.00\n"
     ]
    }
   ],
   "source": [
    "# Calculate the change in the objective function for a given change in constraint 2\n",
    "\n",
    "# Current obj value\n",
    "print(f\"\\nCurrent Objective Value: {model.obj():.2f}\")\n",
    "\n",
    "# For example, let's assume we relax constraint 1 by 10 units\n",
    "change_in_constraint_2 = 10\n",
    "change_in_objective = -dual_2 * change_in_constraint_2\n",
    "print(f\"\\nChange in objective function with +{change_in_constraint_2} on constraint 2: {change_in_objective:.2f}\")\n",
    "\n",
    "new_obj_value = model.obj() + change_in_objective\n",
    "print(f\"\\nNew Objective Value: {new_obj_value:.2f}\")"
   ]
  },
  {
   "cell_type": "markdown",
   "metadata": {},
   "source": [
    "#### e. Verify Marginal Price Exploration with Re-Solving Problem"
   ]
  },
  {
   "cell_type": "code",
   "execution_count": 74,
   "metadata": {},
   "outputs": [
    {
     "name": "stdout",
     "output_type": "stream",
     "text": [
      "x1: 2.00\n",
      "x2: 13.00\n",
      "New Obj: -15.00\n"
     ]
    }
   ],
   "source": [
    "# Create a model\n",
    "model = ConcreteModel()\n",
    "\n",
    "# Define decision variables as integers\n",
    "model.x1 = Var(domain=NonNegativeIntegers)\n",
    "model.x2 = Var(domain=NonNegativeIntegers)\n",
    "\n",
    "# Objective function\n",
    "model.obj = Objective(expr=-model.x1 - model.x2, sense=minimize)\n",
    "\n",
    "# Constraints\n",
    "model.constraint1 = Constraint(expr=-model.x1 + model.x2 >= 0)\n",
    "model.constraint2 = Constraint(expr=model.x1 <= 2)\n",
    "model.constraint3 = Constraint(expr=model.x2 <= 13)\n",
    "\n",
    "# Extract dual values (shadow prices)\n",
    "model.dual = Suffix(direction=Suffix.IMPORT)\n",
    "\n",
    "# Create a solver\n",
    "solver = SolverFactory(\"ipopt\", executable=solver_executable)  # You can change to \"cbc\", \"gurobi\", etc.\n",
    "\n",
    "# Solve the model\n",
    "solver.solve(model)\n",
    "\n",
    "# Display the results\n",
    "print(f\"x1: {model.x1():.2f}\")\n",
    "print(f\"x2: {model.x2():.2f}\")\n",
    "\n",
    "print(f\"New Obj: {model.obj():.2f}\")"
   ]
  },
  {
   "cell_type": "markdown",
   "metadata": {},
   "source": [
    "### 3. MILP with Binary Variable\n",
    "\n",
    "A key feature of MILP formulations is the potential to have a binary variable, such as $y_3$ in this formulation."
   ]
  },
  {
   "cell_type": "markdown",
   "metadata": {},
   "source": [
    "$$\n",
    "\\text{minimize} \\quad 18x_1 + 3x_2 + 9(20y_3)\n",
    "$$\n",
    "\n",
    "$$\n",
    "\\text{subject to:} \\quad 2x_1 + x_2 + 7(20y_3) \\leq 150\n",
    "$$\n",
    "\n",
    "$$\n",
    "0 \\leq x_1 \\leq 60\n",
    "$$\n",
    "\n",
    "$$\n",
    "0 \\leq x_2 \\leq 30\n",
    "$$\n",
    "\n",
    "$$\n",
    "x_1, x_2 \\in \\mathbb{R}^+\n",
    "$$\n",
    "\n",
    "$$\n",
    "y_3 \\in \\{0, 1\\}\n",
    "$$\n"
   ]
  },
  {
   "cell_type": "code",
   "execution_count": 75,
   "metadata": {},
   "outputs": [
    {
     "name": "stdout",
     "output_type": "stream",
     "text": [
      "x1: 5.00\n",
      "x2: 30.00\n",
      "y3: 0\n"
     ]
    }
   ],
   "source": [
    "# Create a Pyomo model\n",
    "model = ConcreteModel()\n",
    "\n",
    "# Define decision variables\n",
    "model.x1 = Var(bounds=(0, 60), within=NonNegativeReals)\n",
    "model.x2 = Var(bounds=(0, 30), within=NonNegativeReals)\n",
    "model.y3 = Var(within=Binary)\n",
    "\n",
    "# Objective function\n",
    "model.obj = Objective(expr=18 * model.x1 + 3 * model.x2 + 9 * 20 * model.y3, sense=minimize)\n",
    "\n",
    "# Constraints\n",
    "model.con1 = Constraint(expr=2 * model.x1 + model.x2 + 7 * 20 * model.y3 <= 150)\n",
    "model.con2 = Constraint(expr=2 * model.x1 + model.x2 >= 40)\n",
    "\n",
    "# Extract dual values (shadow prices)\n",
    "model.dual = Suffix(direction=Suffix.IMPORT)\n",
    "\n",
    "# Create a solver\n",
    "solver = SolverFactory('ipopt', executable=solver_executable)\n",
    "\n",
    "# Solve the model\n",
    "solver.solve(model)\n",
    "\n",
    "# Display the results\n",
    "print(f\"x1: {model.x1():.2f}\")\n",
    "print(f\"x2: {model.x2():.2f}\")\n",
    "print(f\"y3: {int(model.y3())}\")\n",
    "\n",
    "# Print full model details (optional)\n",
    "#model.pprint()"
   ]
  }
 ],
 "metadata": {
  "kernelspec": {
   "display_name": "base",
   "language": "python",
   "name": "python3"
  },
  "language_info": {
   "codemirror_mode": {
    "name": "ipython",
    "version": 3
   },
   "file_extension": ".py",
   "mimetype": "text/x-python",
   "name": "python",
   "nbconvert_exporter": "python",
   "pygments_lexer": "ipython3",
   "version": "3.10.13"
  }
 },
 "nbformat": 4,
 "nbformat_minor": 2
}
