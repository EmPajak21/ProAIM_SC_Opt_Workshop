{
 "cells": [
  {
   "cell_type": "markdown",
   "metadata": {},
   "source": [
    "## Workshop 1b: Mixed Integer Linear Program Exercise"
   ]
  },
  {
   "cell_type": "markdown",
   "metadata": {},
   "source": [
    "### 1. Installing and Importing Packages \n",
    "\n",
    "We first need to pull in all the packages we will be using. Pyomo is a Python-based, open-source optimization modelling language with a diverse set of optimization capabilities. For more information, see the Pyomo [documentation](https://pyomo.readthedocs.io/en/stable/)."
   ]
  },
  {
   "cell_type": "code",
   "execution_count": 1,
   "metadata": {},
   "outputs": [],
   "source": [
    "import matplotlib.pyplot as plt\n",
    "from pyomo.environ import *\n",
    "import numpy as np\n",
    "from ipywidgets import FloatSlider, interact, widgets\n",
    "import platform\n",
    "from IPython.display import display\n",
    "\n",
    "# Solver setup for Windows or Linux\n",
    "def setup_solver():\n",
    "    os_name = platform.system()\n",
    "    if os_name == \"Windows\":\n",
    "        return \"solver/ipopt.exe\", \"solver/cbc.exe\"\n",
    "    elif os_name == \"Linux\":\n",
    "        !chmod +x \"solver/ipopt\"\n",
    "        return \"solver/ipopt\", \"solver/cbc\"\n",
    "\n",
    "ipopt_executable, cbc_executable = setup_solver()"
   ]
  },
  {
   "cell_type": "markdown",
   "metadata": {},
   "source": [
    "### 2. MILP with Binary Variables\n",
    "\n",
    "A key feature of MILP formulations is the potential to have binary variables, often represented by $y$ as in this example. We can use binary variable to model semi-continous variables, for example taking $x$ in this example:\n",
    "\n",
    "$$\n",
    "x = 0 \\: \\vee \\: 10 \\leq x \\leq 20\n",
    "$$\n",
    "\n",
    "Can be reformulated using a binary variable, $y$:\n",
    "\n",
    "$$\n",
    "10y \\leq x, \\quad 20y \\leq x\n",
    "$$\n",
    "\n",
    "$$\n",
    "y \\in \\{0, 1\\}\n",
    "$$\n"
   ]
  },
  {
   "cell_type": "markdown",
   "metadata": {},
   "source": [
    "#### a. Example Modelling Fixed-Cost Objectives\n",
    "$$\n",
    "\\text{minimize} \\: f_1(x_1) + f_2(x_2)\n",
    "$$\n",
    "\n",
    "$$\n",
    "\\text{s.t.} \\quad x_1 + x_2 \\leq 8\n",
    "$$\n",
    "\n",
    "$$\n",
    "0 \\leq x_1 \\leq 3, \\quad 0 \\leq x_2 \\leq 8\n",
    "$$\n",
    "\n",
    "where:\n",
    "\n",
    "$$\n",
    "f_1(x_1) = \n",
    "\\begin{cases} \n",
    "150 + 7x_1 & \\text{if } x_1 > 0 \\\\ \n",
    "0 & \\text{otherwise}\n",
    "\\end{cases}\n",
    "$$\n",
    "\n",
    "$$\n",
    "f_2(x_2) = \n",
    "\\begin{cases} \n",
    "110 + 9x_2 & \\text{if } x_2 > 0 \\\\ \n",
    "0 & \\text{otherwise}\n",
    "\\end{cases}\n",
    "$$"
   ]
  },
  {
   "cell_type": "code",
   "execution_count": 9,
   "metadata": {},
   "outputs": [
    {
     "name": "stdout",
     "output_type": "stream",
     "text": [
      "x1: 0.00\n",
      "x2: 0.00\n",
      "y3: 0.0\n",
      "y3: 0.0\n"
     ]
    }
   ],
   "source": [
    "# Create a Pyomo model\n",
    "model = ConcreteModel()\n",
    "\n",
    "# Define decision variables\n",
    "model.x1 = Var(bounds=(0,3), within=NonNegativeReals)\n",
    "model.x2 = Var(bounds=(0, 8), within=NonNegativeReals)\n",
    "model.y1 = Var(within=Binary)\n",
    "model.y2 = Var(within=Binary)\n",
    "\n",
    "# Objective function\n",
    "model.obj = Objective(expr=7 * model.x1 + 9 * model.x2 + 150*model.y1 + 110*model.y2, sense=minimize)\n",
    "\n",
    "# Constraints\n",
    "model.con1 = Constraint(expr=model.x1 + model.x2 <= 8)\n",
    "model.con2 = Constraint(expr=model.x1 <=  3*model.y1)\n",
    "model.con3 = Constraint(expr=model.x2 <=  8*model.y2)\n",
    "\n",
    "# Create a solver\n",
    "solver = SolverFactory('cbc', executable=cbc_executable)\n",
    "\n",
    "# Solve the model\n",
    "solver.solve(model)\n",
    "\n",
    "# Display the results\n",
    "print(f\"x1: {model.x1():.2f}\")\n",
    "print(f\"x2: {model.x2():.2f}\")\n",
    "print(f\"y3: {(model.y1())}\")\n",
    "print(f\"y3: {(model.y2())}\")"
   ]
  },
  {
   "cell_type": "markdown",
   "metadata": {},
   "source": [
    "#### b. Example Problem: Semi-Continuous Blending Variables\n",
    "\n",
    "$x_3$ in this problem is semi-continuous, we can reformulate using binary variables.\n",
    "$$\n",
    "\\text{minimize} \\quad 18x_1 + 3x_2 + 9x_3\n",
    "$$\n",
    "\n",
    "$$\n",
    "\\text{s.t.} \\quad 2x_1 + x_2 + 7x_3 \\leq 150\n",
    "$$\n",
    "\n",
    "$$\n",
    "0 \\leq x_1 \\leq 60, \\quad 0 \\leq x_2 \\leq 30\n",
    "$$\n",
    "\n",
    "$$\n",
    "x_3 = 0 \\: \\vee \\:  10 \\leq x_3 \\leq 20\n",
    "$$\n",
    "\n",
    "$$\n",
    "x_1, x_2, x_3 \\in \\mathbb{R}^+\n",
    "$$"
   ]
  },
  {
   "cell_type": "markdown",
   "metadata": {},
   "source": [
    "In optimization problems, particularly when dealing with binary and continuous variables, careful formulation is essential to maintain problem tractability. Although a problem could be reformulated with additional binary variables leading to bilinear terms in the objective function, such a formulation would convert the problem into a MINLP problem. MINLPs can be significantly harder to solve due to their non-convex nature and the potential for multiple local optima.\n",
    "\n",
    "To avoid this complexity, we can introduce a binary variable $y_3$ and an additional continuous variable $z_3$. This allows us to reformulate the original problem as a Mixed-Integer Linear Programming (MILP) problem.\n",
    "\n",
    "$$\n",
    "\\text{minimize} \\quad 18x_1 + 3x_2 + 9z_3\n",
    "$$\n",
    "\n",
    "$$\n",
    "\\text{s.t.} \\quad 2x_1 + x_2 + 7z_3 \\leq 150\n",
    "$$\n",
    "\n",
    "$$\n",
    "0 \\leq x_1 \\leq 60, \\quad 0 \\leq x_2 \\leq 30\n",
    "$$\n",
    "\n",
    "$$\n",
    "10y_3 \\leq z_3 \\leq 20y_3\n",
    "$$\n",
    "\n",
    "$$\n",
    "x_3 + 20(y_3-1) \\leq z_3 \\leq x_3 + 10(y_3-1)\n",
    "$$\n",
    "\n",
    "$$\n",
    "x_1, x_2, x_3, z_3 \\in \\mathbb{R}^+\n",
    "$$\n",
    "\n",
    "$$\n",
    "y \\in \\{0, 1\\}\n",
    "$$\n"
   ]
  },
  {
   "cell_type": "code",
   "execution_count": 3,
   "metadata": {},
   "outputs": [
    {
     "name": "stdout",
     "output_type": "stream",
     "text": [
      "Objective Value: 0.0\n",
      "\n",
      "x1: 0.00\n",
      "x2: 0.00\n",
      "x3: 0.00\n",
      "y3: 1.0\n",
      "z3: 0.0\n"
     ]
    }
   ],
   "source": [
    "# Create a Pyomo model\n",
    "model = ConcreteModel()\n",
    "\n",
    "# Define decision variables\n",
    "model.x1 = Var(bounds=(0, 60), within=NonNegativeReals)\n",
    "model.x2 = Var(bounds=(0, 30), within=NonNegativeReals)\n",
    "model.x3 = Var(bounds=(None,None), within=NonNegativeReals)\n",
    "model.z3 = Var(within=NonNegativeReals)\n",
    "model.y3 = Var(within=Binary)\n",
    "\n",
    "# Objective function\n",
    "model.obj = Objective(expr=18 * model.x1 + 3 * model.x2 + 9*model.z3, sense=minimize)\n",
    "\n",
    "# Constraints\n",
    "model.con1 = Constraint(expr=2*model.x1 + model.x2 + 7*model.x3 <= 150)\n",
    "model.con2 = Constraint(expr=model.x3 +20*(model.y3-1)<= model.z3)\n",
    "model.con3 = Constraint(expr= model.z3 <= model.y3 + 10*(model.y3-1))\n",
    "\n",
    "# Create a solver\n",
    "solver = SolverFactory('cbc', executable=cbc_executable)\n",
    "\n",
    "# Solve the model\n",
    "solver.solve(model)\n",
    "\n",
    "# Display the results\n",
    "print(f\"Objective Value: {(model.obj())}\\n\")\n",
    "print(f\"x1: {model.x1():.2f}\")\n",
    "print(f\"x2: {model.x2():.2f}\")\n",
    "print(f\"x3: {model.x3():.2f}\")\n",
    "print(f\"y3: {(model.y3())}\")\n",
    "print(f\"z3: {(model.z3())}\")\n"
   ]
  },
  {
   "cell_type": "markdown",
   "metadata": {},
   "source": [
    "#### c. Relaxing MILP to LPs"
   ]
  },
  {
   "cell_type": "markdown",
   "metadata": {},
   "source": [
    "Problem 1: Setting $y_3 = 0$ \n",
    "\n",
    "$$\n",
    "\\text{minimize} \\quad 18x_1 + 3x_2\n",
    "$$\n",
    "\n",
    "$$\n",
    "\\text{s.t.} \\quad 2x_1 + x_2 \\leq 150\n",
    "$$\n",
    "\n",
    "$$\n",
    "0 \\leq x_1 \\leq 60, \\quad 0 \\leq x_2 \\leq 30\n",
    "$$\n",
    "\n",
    "$$\n",
    "x_1, x_2, x_3 \\in \\mathbb{R}^+, \\quad y \\in \\{0, 1\\}\n",
    "$$\n",
    "\n",
    "$$\n",
    "\\text{Since} \\: y_3=0: z_3=0, x_3 = 0\n",
    "$$\n",
    "\n",
    "---\n",
    "\n",
    "Problem 2: Setting $y_3 = 1$ \n",
    "$$\n",
    "\\text{minimize} \\quad 18x_1 + 3x_2 + 9z_3\n",
    "$$\n",
    "\n",
    "$$\n",
    "\\text{s.t.} \\quad 2x_1 + x_2 + 7z_3 \\leq 150\n",
    "$$\n",
    "\n",
    "$$\n",
    "0 \\leq x_1 \\leq 60, \\quad 0 \\leq x_2 \\leq 30\n",
    "$$\n",
    "\n",
    "$$\n",
    "10 \\leq z_3 \\leq 20\n",
    "$$\n",
    "\n",
    "$$\n",
    "x_3 \\leq z_3 \\leq x_3\n",
    "$$\n",
    "\n",
    "$$\n",
    "x_1, x_2, x_3 \\in \\mathbb{R}^+, \\quad y \\in \\{0, 1\\}\n",
    "$$\n",
    "\n",
    "$$\n",
    "\\text{Since} \\: y_3=1: \\: 10 \\leq z_3 \\leq 20, \\: x_3 = z_3\n",
    "$$"
   ]
  },
  {
   "cell_type": "markdown",
   "metadata": {},
   "source": [
    "### 3. MILP Case Study"
   ]
  },
  {
   "cell_type": "markdown",
   "metadata": {},
   "source": [
    "![image (2).png](<images/reactor_milp.png>)"
   ]
  },
  {
   "cell_type": "code",
   "execution_count": 4,
   "metadata": {},
   "outputs": [
    {
     "name": "stdout",
     "output_type": "stream",
     "text": [
      "x1: 0.000, y1: 0.000\n",
      "x2: 14.993, y2: 1.000\n",
      "x3: 0.000, y3: 0.000\n",
      "Total cost: 503.775\n"
     ]
    }
   ],
   "source": [
    "# Create the model\n",
    "model = ConcreteModel()\n",
    "\n",
    "## Decision variables - quantity of A sent to reactor i\n",
    "model.x1 = Var(domain=NonNegativeReals)\n",
    "model.x2 = Var(domain=NonNegativeReals)\n",
    "model.x3 = Var(domain=NonNegativeReals)\n",
    "\n",
    "# Binary decision variables - used to calculate fixed cost of reactor i\n",
    "model.y1 = Var(domain=Binary)\n",
    "model.y2 = Var(domain=Binary)\n",
    "model.y3 = Var(domain=Binary)\n",
    "\n",
    "# Cost Parameters (hint - once solved, play with c_x1 and c_x2)\n",
    "c_y1, c_y2, c_y3 = 80, 54, 27\n",
    "c_x1, c_x2, c_x3 = 35, 30, 25\n",
    "\n",
    "# Objective function (minimize cost)\n",
    "model.cost = Objective(\n",
    "    expr=c_y1*model.y1 + c_x1*model.x1 + c_y2*model.y2 + c_x2*model.x2 + c_y3*model.y3 + c_x3*model.x3,\n",
    ")\n",
    "\n",
    "## Constraints\n",
    "\n",
    "# Material Balance: to achieve 10 kg/hr of B\n",
    "model.material_balance = Constraint(expr=0.8*model.x1 + 0.667*model.x2 + 0.555*model.x3 == 10)\n",
    "\n",
    "# Feed limit: only 15 kg/hr of A can be fed\n",
    "model.feed_limit = Constraint(expr=model.x1 + model.x2 + model.x3 <= 15)\n",
    "\n",
    "# Selection constraints - linking binary variable to whether reactor i is used or not\n",
    "model.selection1 = Constraint(expr=model.x1 - 15*model.y1 <= 0)\n",
    "model.selection2 = Constraint(expr=model.x2 - 15*model.y2 <= 0)\n",
    "model.selection3 = Constraint(expr=model.x3 - 15*model.y3 <= 0)\n",
    "\n",
    "# Solve the model\n",
    "solver = SolverFactory('cbc', executable=cbc_executable)\n",
    "solver.solve(model)\n",
    "\n",
    "# Display results\n",
    "print(f\"x1: {model.x1():.3f}, y1: {model.y1():.3f}\")\n",
    "print(f\"x2: {model.x2():.3f}, y2: {model.y2():.3f}\")\n",
    "print(f\"x3: {model.x3():.3f}, y3: {model.y3():.3f}\")\n",
    "print(f\"Total cost: {model.cost():.3f}\")\n"
   ]
  },
  {
   "cell_type": "markdown",
   "metadata": {},
   "source": [
    "#### Extension Challenge: \n",
    "Can you add an additional constraint that enforces that at least two reactors must be used?"
   ]
  }
 ],
 "metadata": {
  "kernelspec": {
   "display_name": "base",
   "language": "python",
   "name": "python3"
  },
  "language_info": {
   "codemirror_mode": {
    "name": "ipython",
    "version": 3
   },
   "file_extension": ".py",
   "mimetype": "text/x-python",
   "name": "python",
   "nbconvert_exporter": "python",
   "pygments_lexer": "ipython3",
   "version": "3.10.13"
  }
 },
 "nbformat": 4,
 "nbformat_minor": 2
}
