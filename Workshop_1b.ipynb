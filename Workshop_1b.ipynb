{
 "cells": [
  {
   "cell_type": "markdown",
   "metadata": {},
   "source": [
    "## Workshop 1b: Mixed Integer Linear Program Exercise"
   ]
  },
  {
   "cell_type": "markdown",
   "metadata": {},
   "source": [
    "### 1. Installing and Importing Packages \n",
    "\n",
    "We first need to pull in all the packages we will be using. Pyomo is a Python-based, open-source optimization modelling language with a diverse set of optimization capabilities. For more information, see the Pyomo [documentation](https://pyomo.readthedocs.io/en/stable/)."
   ]
  },
  {
   "cell_type": "code",
   "execution_count": null,
   "metadata": {},
   "outputs": [],
   "source": [
    "import matplotlib.pyplot as plt\n",
    "from pyomo.environ import *\n",
    "import numpy as np\n",
    "from ipywidgets import FloatSlider, interact, widgets\n",
    "import platform\n",
    "from IPython.display import display\n",
    "import os \n",
    "\n",
    "# Solver setup for Windows or Linux\n",
    "def setup_solver():\n",
    "    os_name = platform.system()\n",
    "    if os_name == \"Windows\":\n",
    "        return \"solver/ipopt.exe\", \"solver/cbc.exe\", \"solver/ampl.mswin64/bonmin.exe\"\n",
    "    elif os_name == \"Linux\":\n",
    "        os.system(\"chmod +x solver/ipopt\")\n",
    "        os.system(\"chmod +x solver/cbc\")\n",
    "        os.system(\"chmod +x solver/bonmin\")\n",
    "        return \"solver/ipopt\", \"solver/cbc\", \"solver/bonmin\"\n",
    "\n",
    "ipopt_executable, cbc_executable, bonmin_executable = setup_solver()"
   ]
  },
  {
   "cell_type": "markdown",
   "metadata": {},
   "source": [
    "### 2. MILP with Binary Variables\n",
    "\n",
    "A key feature of MILP formulations is the potential to have binary variables, often represented by $y$ as in this example. We can use binary variable to model semi-continous variables, for example taking $x$ in this example:\n",
    "\n",
    "$$\n",
    "x = 0 \\: \\vee \\: 10 \\leq x \\leq 20\n",
    "$$\n",
    "\n",
    "Can be reformulated using a binary variable, $y$:\n",
    "\n",
    "$$\n",
    "10y \\leq x, \\quad 20y \\leq x\n",
    "$$\n",
    "\n",
    "$$\n",
    "y \\in \\{0, 1\\}\n",
    "$$\n"
   ]
  },
  {
   "cell_type": "markdown",
   "metadata": {},
   "source": [
    "#### a. Example Modelling Fixed-Cost Objectives\n",
    "$$\n",
    "\\text{minimize} \\: f_1(x_1) + f_2(x_2)\n",
    "$$\n",
    "\n",
    "$$\n",
    "\\text{s.t.} \\quad x_1 + x_2 \\leq 8\n",
    "$$\n",
    "\n",
    "$$\n",
    "x_1 \\leq 3, \\quad x_2 \\leq 8\n",
    "$$\n",
    "\n",
    "$$\n",
    "f_1(x_1) = \n",
    "\\begin{cases} \n",
    "150 + 7x_1 & \\text{if } x_1 > 0 \\\\ \n",
    "0 & \\text{otherwise}\n",
    "\\end{cases}\n",
    "$$\n",
    "\n",
    "$$\n",
    "f_2(x_2) = \n",
    "\\begin{cases} \n",
    "110 + 9x_2 & \\text{if } x_2 > 0 \\\\ \n",
    "0 & \\text{otherwise}\n",
    "\\end{cases}\n",
    "$$"
   ]
  },
  {
   "cell_type": "markdown",
   "metadata": {},
   "source": [
    "$$\n",
    "\\text{minimize} \\: 7x_1  + 9 x_2 + 150 y_1 + 110 y_1\n",
    "$$\n",
    "\n",
    "$$\n",
    "\\text{s.t.} \\quad x_1 + x_2 \\leq 8\n",
    "$$\n",
    "\n",
    "$$\n",
    "x_1 \\leq 3 y_1, \\quad x_2 \\leq 8 y_2\n",
    "$$\n",
    "\n",
    "$$\n",
    "x_1, x_2 \\in \\mathbb{R}^+ \\quad y_1, y_2 \\in \\{0, 1\\}\n",
    "$$\n",
    "\n"
   ]
  },
  {
   "cell_type": "markdown",
   "metadata": {},
   "source": [
    "<div style=\"background-color: #f0f8ff; padding: 10px; border-radius: 5px; font-size: 1.2em;\">\n",
    "    <span style=\"color:blue;\"><b>EXERCISE:</b> Complete the Pyomo model by referring to the above optimization problem formulation.</span>\n",
    "</div>"
   ]
  },
  {
   "cell_type": "code",
   "execution_count": null,
   "metadata": {},
   "outputs": [],
   "source": [
    "# EXERCISE: Create a Pyomo model\n",
    "\n",
    "# Define decision variables\n",
    "\n",
    "# EXERCISE: Define x1\n",
    "\n",
    "# EXERCISE: Define x2\n",
    "\n",
    "# Binary Variables\n",
    "model.y1 = Var(within=Binary)  \n",
    "model.y2 = Var(within=Binary)\n",
    "\n",
    "# Objective function\n",
    "# EXERCISE: Write the objective function\n",
    "\n",
    "# Constraints\n",
    "# EXERCISE: Add constraints\n",
    "\n",
    "# Create a solver\n",
    "solver = SolverFactory('cbc', executable=cbc_executable)\n",
    "\n",
    "# Solve the model\n",
    "solver.solve(model)\n",
    "\n",
    "# Display the results\n",
    "# EXERCISE: Print the results"
   ]
  },
  {
   "cell_type": "markdown",
   "metadata": {},
   "source": [
    "#### b. Example Problem: Semi-Continuous Blending Variables\n",
    "\n",
    "$x_3$ in this problem is semi-continuous, we can reformulate using binary variables.\n",
    "$$\n",
    "\\text{minimize} \\quad 18x_1 + 3x_2 + 9x_3\n",
    "$$\n",
    "\n",
    "$$\n",
    "\\text{s.t.} \\quad 2x_1 + x_2 + 7x_3 \\leq 150\n",
    "$$\n",
    "\n",
    "$$\n",
    "0 \\leq x_1 \\leq 60, \\quad 0 \\leq x_2 \\leq 30\n",
    "$$\n",
    "\n",
    "$$\n",
    "x_3 = 0 \\: \\vee \\:  10 \\leq x_3 \\leq 20\n",
    "$$\n",
    "\n",
    "$$\n",
    "x_1, x_2, x_3 \\in \\mathbb{R}^+\n",
    "$$"
   ]
  },
  {
   "cell_type": "markdown",
   "metadata": {},
   "source": [
    "In optimization problems, particularly when dealing with binary and continuous variables, careful formulation is essential to maintain problem tractability. Although a problem could be reformulated with additional binary variables leading to bilinear terms in the objective function, such a formulation would convert the problem into a MINLP problem. MINLPs can be significantly harder to solve due to their non-convex nature and the potential for multiple local optima.\n",
    "\n",
    "To avoid this complexity, we can introduce a binary variable $y_3$ and an additional continuous variable $z_3$. This allows us to reformulate the original problem as a Mixed-Integer Linear Programming (MILP) problem.\n",
    "\n",
    "$$\n",
    "\\text{minimize} \\quad 18x_1 + 3x_2 + 9z_3\n",
    "$$\n",
    "\n",
    "$$\n",
    "\\text{s.t.} \\quad 2x_1 + x_2 + 7z_3 \\leq 150\n",
    "$$\n",
    "\n",
    "$$\n",
    "0 \\leq x_1 \\leq 60, \\quad 0 \\leq x_2 \\leq 30\n",
    "$$\n",
    "\n",
    "$$\n",
    "10y_3 \\leq z_3 \\leq 20y_3\n",
    "$$\n",
    "\n",
    "$$\n",
    "x_3 + 20(y_3-1) \\leq z_3 \\leq x_3 + 10(y_3-1)\n",
    "$$\n",
    "\n",
    "$$\n",
    "x_1, x_2, x_3, z_3 \\in \\mathbb{R}^+\n",
    "$$\n",
    "\n",
    "$$\n",
    "y \\in \\{0, 1\\}\n",
    "$$\n"
   ]
  },
  {
   "cell_type": "markdown",
   "metadata": {},
   "source": [
    "<div style=\"background-color: #f0f8ff; padding: 10px; border-radius: 5px; font-size: 1.2em;\">\n",
    "    <span style=\"color:blue;\"><b>EXERCISE:</b> Complete the Pyomo model by referring to the above optimization problem formulation.</span>\n",
    "</div>"
   ]
  },
  {
   "cell_type": "code",
   "execution_count": null,
   "metadata": {},
   "outputs": [],
   "source": [
    "#############################################\n",
    "#==============YOUR MODEL HERE==============#"
   ]
  },
  {
   "cell_type": "markdown",
   "metadata": {},
   "source": [
    "#### c. Relaxing MILP to LPs"
   ]
  },
  {
   "cell_type": "markdown",
   "metadata": {},
   "source": [
    "<div style=\"background-color: #f0f8ff; padding: 10px; border-radius: 5px; font-size: 1.2em;\">\n",
    "    <span style=\"color:blue;\"><b>EXERCISE:</b> Review the above model and see how by setting the binary variable at zero or one, we reduce the MILP to two LPs.</span>\n",
    "</div>"
   ]
  },
  {
   "cell_type": "markdown",
   "metadata": {},
   "source": [
    "Problem 1: Setting $y_3 = 0$ \n",
    "\n",
    "$$\n",
    "\\text{minimize} \\quad 18x_1 + 3x_2\n",
    "$$\n",
    "\n",
    "$$\n",
    "\\text{s.t.} \\quad 2x_1 + x_2 \\leq 150\n",
    "$$\n",
    "\n",
    "$$\n",
    "0 \\leq x_1 \\leq 60, \\quad 0 \\leq x_2 \\leq 30\n",
    "$$\n",
    "\n",
    "$$\n",
    "x_1, x_2, x_3, z_3 \\in \\mathbb{R}^+, \\quad y \\in \\{0, 1\\}\n",
    "$$\n",
    "\n",
    "$$\n",
    "\\text{Since} \\: y_3=0: z_3=0, x_3 = 0\n",
    "$$\n",
    "\n",
    "---\n",
    "\n",
    "Problem 2: Setting $y_3 = 1$ \n",
    "$$\n",
    "\\text{minimize} \\quad 18x_1 + 3x_2 + 9z_3\n",
    "$$\n",
    "\n",
    "$$\n",
    "\\text{s.t.} \\quad 2x_1 + x_2 + 7z_3 \\leq 150\n",
    "$$\n",
    "\n",
    "$$\n",
    "0 \\leq x_1 \\leq 60, \\quad 0 \\leq x_2 \\leq 30\n",
    "$$\n",
    "\n",
    "$$\n",
    "10 \\leq z_3 \\leq 20\n",
    "$$\n",
    "\n",
    "$$\n",
    "x_3 \\leq z_3 \\leq x_3\n",
    "$$\n",
    "\n",
    "$$\n",
    "x_1, x_2, x_3 \\in \\mathbb{R}^+, \\quad y \\in \\{0, 1\\}\n",
    "$$\n",
    "\n",
    "$$\n",
    "\\text{Since} \\: y_3=1: \\: 10 \\leq z_3 \\leq 20, \\: x_3 = z_3\n",
    "$$"
   ]
  },
  {
   "cell_type": "markdown",
   "metadata": {},
   "source": [
    "### 3. MILP Case Study"
   ]
  },
  {
   "cell_type": "markdown",
   "metadata": {},
   "source": [
    "![image (2).png](<images/reactor_milp.png>)"
   ]
  },
  {
   "cell_type": "markdown",
   "metadata": {},
   "source": [
    "<div style=\"background-color: #f0f8ff; padding: 10px; border-radius: 5px; font-size: 1.2em;\">\n",
    "    <span style=\"color:blue;\"><b>EXERCISE:</b> Complete the Pyomo model by referring to the above optimization problem we saw in the lecture slides.</span>\n",
    "</div>"
   ]
  },
  {
   "cell_type": "code",
   "execution_count": null,
   "metadata": {},
   "outputs": [],
   "source": [
    "#############################################\n",
    "#==============YOUR MODEL HERE==============#\n",
    "\n",
    "# Cost Parameters (hint - once solved, play with c_x1 and c_x2)\n",
    "c_y1, c_y2, c_y3 = 80, 54, 27\n",
    "c_x1, c_x2, c_x3 = 35, 30, 25\n"
   ]
  },
  {
   "cell_type": "markdown",
   "metadata": {},
   "source": [
    "<div style=\"background-color: #f0f8ff; padding: 10px; border-radius: 5px; font-size: 1.2em;\">\n",
    "    <span style=\"color:blue;\"><b>EXTENSION CHALLENGE:</b> Complete the Pyomo model by referring to the above optimization problem we saw in the lecture slides.</span>\n",
    "</div>"
   ]
  }
 ],
 "metadata": {
  "kernelspec": {
   "display_name": "base",
   "language": "python",
   "name": "python3"
  },
  "language_info": {
   "codemirror_mode": {
    "name": "ipython",
    "version": 3
   },
   "file_extension": ".py",
   "mimetype": "text/x-python",
   "name": "python",
   "nbconvert_exporter": "python",
   "pygments_lexer": "ipython3",
   "version": "3.10.13"
  }
 },
 "nbformat": 4,
 "nbformat_minor": 2
}
